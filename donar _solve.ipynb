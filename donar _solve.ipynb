{
 "cells": [
  {
   "cell_type": "code",
   "execution_count": 1,
   "metadata": {},
   "outputs": [],
   "source": [
    "import pandas as pd\n",
    "import matplotlib.pyplot as plt\n",
    "import seaborn as sns\n",
    "import numpy as np\n",
    "\n"
   ]
  },
  {
   "cell_type": "markdown",
   "metadata": {},
   "source": [
    "<h1 style = \"color:red\">Problem Statement</h1>\n",
    "<h3> There was an organisation named donor foundation.it allocates certain amount of fund to the student's projects but there was huge rise in yoy(year on year) and it was becoming  very difficult to organisation to sort out the donee . As based on yoy data it was known that upcoming years would receive more applications for the fund.so in order to choose donee from these huge no.of applications.The organisation thinks to build a model based on the data </h3>"
   ]
  },
  {
   "cell_type": "code",
   "execution_count": 2,
   "metadata": {
    "scrolled": true
   },
   "outputs": [
    {
     "data": {
      "text/html": [
       "<div>\n",
       "<style scoped>\n",
       "    .dataframe tbody tr th:only-of-type {\n",
       "        vertical-align: middle;\n",
       "    }\n",
       "\n",
       "    .dataframe tbody tr th {\n",
       "        vertical-align: top;\n",
       "    }\n",
       "\n",
       "    .dataframe thead th {\n",
       "        text-align: right;\n",
       "    }\n",
       "</style>\n",
       "<table border=\"1\" class=\"dataframe\">\n",
       "  <thead>\n",
       "    <tr style=\"text-align: right;\">\n",
       "      <th></th>\n",
       "      <th>Unnamed: 0</th>\n",
       "      <th>id</th>\n",
       "      <th>teacher_id</th>\n",
       "      <th>teacher_prefix</th>\n",
       "      <th>school_state</th>\n",
       "      <th>project_submitted_datetime</th>\n",
       "      <th>project_grade_category</th>\n",
       "      <th>project_subject_categories</th>\n",
       "      <th>project_subject_subcategories</th>\n",
       "      <th>project_title</th>\n",
       "      <th>project_essay_1</th>\n",
       "      <th>project_essay_2</th>\n",
       "      <th>project_essay_3</th>\n",
       "      <th>project_essay_4</th>\n",
       "      <th>project_resource_summary</th>\n",
       "      <th>teacher_number_of_previously_posted_projects</th>\n",
       "      <th>project_is_approved</th>\n",
       "    </tr>\n",
       "  </thead>\n",
       "  <tbody>\n",
       "    <tr>\n",
       "      <th>0</th>\n",
       "      <td>160221</td>\n",
       "      <td>p253737</td>\n",
       "      <td>c90749f5d961ff158d4b4d1e7dc665fc</td>\n",
       "      <td>Mrs.</td>\n",
       "      <td>IN</td>\n",
       "      <td>2016-12-05 13:43:57</td>\n",
       "      <td>Grades PreK-2</td>\n",
       "      <td>Literacy &amp; Language</td>\n",
       "      <td>ESL, Literacy</td>\n",
       "      <td>Educational Support for English Learners at Home</td>\n",
       "      <td>My students are English learners that are work...</td>\n",
       "      <td>\\\"The limits of your language are the limits o...</td>\n",
       "      <td>NaN</td>\n",
       "      <td>NaN</td>\n",
       "      <td>My students need opportunities to practice beg...</td>\n",
       "      <td>0</td>\n",
       "      <td>0</td>\n",
       "    </tr>\n",
       "    <tr>\n",
       "      <th>1</th>\n",
       "      <td>140945</td>\n",
       "      <td>p258326</td>\n",
       "      <td>897464ce9ddc600bced1151f324dd63a</td>\n",
       "      <td>Mr.</td>\n",
       "      <td>FL</td>\n",
       "      <td>2016-10-25 09:22:10</td>\n",
       "      <td>Grades 6-8</td>\n",
       "      <td>History &amp; Civics, Health &amp; Sports</td>\n",
       "      <td>Civics &amp; Government, Team Sports</td>\n",
       "      <td>Wanted: Projector for Hungry Learners</td>\n",
       "      <td>Our students arrive to our school eager to lea...</td>\n",
       "      <td>The projector we need for our school is very c...</td>\n",
       "      <td>NaN</td>\n",
       "      <td>NaN</td>\n",
       "      <td>My students need a projector to help with view...</td>\n",
       "      <td>7</td>\n",
       "      <td>1</td>\n",
       "    </tr>\n",
       "    <tr>\n",
       "      <th>2</th>\n",
       "      <td>21895</td>\n",
       "      <td>p182444</td>\n",
       "      <td>3465aaf82da834c0582ebd0ef8040ca0</td>\n",
       "      <td>Ms.</td>\n",
       "      <td>AZ</td>\n",
       "      <td>2016-08-31 12:03:56</td>\n",
       "      <td>Grades 6-8</td>\n",
       "      <td>Health &amp; Sports</td>\n",
       "      <td>Health &amp; Wellness, Team Sports</td>\n",
       "      <td>Soccer Equipment for AWESOME Middle School Stu...</td>\n",
       "      <td>\\r\\n\\\"True champions aren't always the ones th...</td>\n",
       "      <td>The students on the campus come to school know...</td>\n",
       "      <td>NaN</td>\n",
       "      <td>NaN</td>\n",
       "      <td>My students need shine guards, athletic socks,...</td>\n",
       "      <td>1</td>\n",
       "      <td>0</td>\n",
       "    </tr>\n",
       "    <tr>\n",
       "      <th>3</th>\n",
       "      <td>45</td>\n",
       "      <td>p246581</td>\n",
       "      <td>f3cb9bffbba169bef1a77b243e620b60</td>\n",
       "      <td>Mrs.</td>\n",
       "      <td>KY</td>\n",
       "      <td>2016-10-06 21:16:17</td>\n",
       "      <td>Grades PreK-2</td>\n",
       "      <td>Literacy &amp; Language, Math &amp; Science</td>\n",
       "      <td>Literacy, Mathematics</td>\n",
       "      <td>Techie Kindergarteners</td>\n",
       "      <td>I work at a unique school filled with both ESL...</td>\n",
       "      <td>My students live in high poverty conditions wi...</td>\n",
       "      <td>NaN</td>\n",
       "      <td>NaN</td>\n",
       "      <td>My students need to engage in Reading and Math...</td>\n",
       "      <td>4</td>\n",
       "      <td>1</td>\n",
       "    </tr>\n",
       "    <tr>\n",
       "      <th>4</th>\n",
       "      <td>172407</td>\n",
       "      <td>p104768</td>\n",
       "      <td>be1f7507a41f8479dc06f047086a39ec</td>\n",
       "      <td>Mrs.</td>\n",
       "      <td>TX</td>\n",
       "      <td>2016-07-11 01:10:09</td>\n",
       "      <td>Grades PreK-2</td>\n",
       "      <td>Math &amp; Science</td>\n",
       "      <td>Mathematics</td>\n",
       "      <td>Interactive Math Tools</td>\n",
       "      <td>Our second grade classroom next year will be m...</td>\n",
       "      <td>For many students, math is a subject that does...</td>\n",
       "      <td>NaN</td>\n",
       "      <td>NaN</td>\n",
       "      <td>My students need hands on practice in mathemat...</td>\n",
       "      <td>1</td>\n",
       "      <td>1</td>\n",
       "    </tr>\n",
       "  </tbody>\n",
       "</table>\n",
       "</div>"
      ],
      "text/plain": [
       "   Unnamed: 0       id                        teacher_id teacher_prefix  \\\n",
       "0      160221  p253737  c90749f5d961ff158d4b4d1e7dc665fc           Mrs.   \n",
       "1      140945  p258326  897464ce9ddc600bced1151f324dd63a            Mr.   \n",
       "2       21895  p182444  3465aaf82da834c0582ebd0ef8040ca0            Ms.   \n",
       "3          45  p246581  f3cb9bffbba169bef1a77b243e620b60           Mrs.   \n",
       "4      172407  p104768  be1f7507a41f8479dc06f047086a39ec           Mrs.   \n",
       "\n",
       "  school_state project_submitted_datetime project_grade_category  \\\n",
       "0           IN        2016-12-05 13:43:57          Grades PreK-2   \n",
       "1           FL        2016-10-25 09:22:10             Grades 6-8   \n",
       "2           AZ        2016-08-31 12:03:56             Grades 6-8   \n",
       "3           KY        2016-10-06 21:16:17          Grades PreK-2   \n",
       "4           TX        2016-07-11 01:10:09          Grades PreK-2   \n",
       "\n",
       "            project_subject_categories     project_subject_subcategories  \\\n",
       "0                  Literacy & Language                     ESL, Literacy   \n",
       "1    History & Civics, Health & Sports  Civics & Government, Team Sports   \n",
       "2                      Health & Sports    Health & Wellness, Team Sports   \n",
       "3  Literacy & Language, Math & Science             Literacy, Mathematics   \n",
       "4                       Math & Science                       Mathematics   \n",
       "\n",
       "                                       project_title  \\\n",
       "0   Educational Support for English Learners at Home   \n",
       "1              Wanted: Projector for Hungry Learners   \n",
       "2  Soccer Equipment for AWESOME Middle School Stu...   \n",
       "3                             Techie Kindergarteners   \n",
       "4                             Interactive Math Tools   \n",
       "\n",
       "                                     project_essay_1  \\\n",
       "0  My students are English learners that are work...   \n",
       "1  Our students arrive to our school eager to lea...   \n",
       "2  \\r\\n\\\"True champions aren't always the ones th...   \n",
       "3  I work at a unique school filled with both ESL...   \n",
       "4  Our second grade classroom next year will be m...   \n",
       "\n",
       "                                     project_essay_2 project_essay_3  \\\n",
       "0  \\\"The limits of your language are the limits o...             NaN   \n",
       "1  The projector we need for our school is very c...             NaN   \n",
       "2  The students on the campus come to school know...             NaN   \n",
       "3  My students live in high poverty conditions wi...             NaN   \n",
       "4  For many students, math is a subject that does...             NaN   \n",
       "\n",
       "  project_essay_4                           project_resource_summary  \\\n",
       "0             NaN  My students need opportunities to practice beg...   \n",
       "1             NaN  My students need a projector to help with view...   \n",
       "2             NaN  My students need shine guards, athletic socks,...   \n",
       "3             NaN  My students need to engage in Reading and Math...   \n",
       "4             NaN  My students need hands on practice in mathemat...   \n",
       "\n",
       "   teacher_number_of_previously_posted_projects  project_is_approved  \n",
       "0                                             0                    0  \n",
       "1                                             7                    1  \n",
       "2                                             1                    0  \n",
       "3                                             4                    1  \n",
       "4                                             1                    1  "
      ]
     },
     "execution_count": 2,
     "metadata": {},
     "output_type": "execute_result"
    }
   ],
   "source": [
    "resources_data = pd.read_csv('/home/yughi/Downloads/resources.csv')\n",
    "project_data = pd.read_csv('/home/yughi/Downloads/train_data.csv')\n",
    "project_data.head()"
   ]
  },
  {
   "cell_type": "markdown",
   "metadata": {},
   "source": [
    "<h2 style = \"color:red\">data analysis</h2>\n",
    "<h3>target data (project_is_approved) </h3>"
   ]
  },
  {
   "cell_type": "code",
   "execution_count": 4,
   "metadata": {},
   "outputs": [
    {
     "data": {
      "image/png": "[encoded data removed]",
      "text/plain": [
       "<Figure size 432x288 with 1 Axes>"
      ]
     },
     "metadata": {},
     "output_type": "display_data"
    }
   ],
   "source": [
    "project_data[\"project_is_approved\"].value_counts().plot(kind = \"pie\",labels = [\"accepted\",\"not_accepted\"])\n",
    "plt.legend()\n",
    "plt.show()"
   ]
  },
  {
   "cell_type": "markdown",
   "metadata": {},
   "source": [
    "<h3 style = \"color : green\"> This plot shows that data is heavily imbalanced"
   ]
  },
  {
   "cell_type": "markdown",
   "metadata": {},
   "source": [
    "<h2>Function for analysing the categorical data </h3>"
   ]
  },
  {
   "cell_type": "code",
   "execution_count": 126,
   "metadata": {},
   "outputs": [],
   "source": [
    "def univariate_analysis(data,col1,col2 ,top = False):\n",
    "    analysis = pd.DataFrame(data.groupby(col1)[col2].agg(lambda x : x.eq(1).sum())).reset_index()\n",
    "    analysis[\"total\"] = pd.DataFrame(data.groupby(col1)[col2].agg(total = \"count\")).reset_index()[\"total\"]\n",
    "    analysis[\"Average\"] = pd.DataFrame(data.groupby(col1)[col2].agg(Average = \"mean\")).reset_index()[\"Average\"]\n",
    "    analysis.sort_values(by = \"total\",inplace = True,ascending = False)\n",
    "    print(analysis.Average.max())\n",
    "    if top :\n",
    "        analysis =  analysis[0:top]\n",
    "   \n",
    "    plt.bar(analysis[col1],analysis[\"total\"])\n",
    "    plt.bar(analysis[col1],analysis[col2])\n",
    "    plt.legend([\"rejected\",\"selected\"])\n",
    "    plt.title(col1)\n",
    "    plt.show()\n",
    "    return analysis\n",
    "    \n",
    "    "
   ]
  },
  {
   "cell_type": "markdown",
   "metadata": {},
   "source": [
    "<h2> analysing the feature school_state </h3>"
   ]
  },
  {
   "cell_type": "code",
   "execution_count": 127,
   "metadata": {},
   "outputs": [
    {
     "name": "stdout",
     "output_type": "stream",
     "text": [
      "0.8979591836734694\n"
     ]
    },
    {
     "data": {
      "image/png": "[encoded data removed]",
      "text/plain": [
       "<Figure size 432x288 with 1 Axes>"
      ]
     },
     "metadata": {
      "needs_background": "light"
     },
     "output_type": "display_data"
    },
    {
     "data": {
      "text/html": [
       "<div>\n",
       "<style scoped>\n",
       "    .dataframe tbody tr th:only-of-type {\n",
       "        vertical-align: middle;\n",
       "    }\n",
       "\n",
       "    .dataframe tbody tr th {\n",
       "        vertical-align: top;\n",
       "    }\n",
       "\n",
       "    .dataframe thead th {\n",
       "        text-align: right;\n",
       "    }\n",
       "</style>\n",
       "<table border=\"1\" class=\"dataframe\">\n",
       "  <thead>\n",
       "    <tr style=\"text-align: right;\">\n",
       "      <th></th>\n",
       "      <th>school_state</th>\n",
       "      <th>project_is_approved</th>\n",
       "      <th>total</th>\n",
       "      <th>Average</th>\n",
       "    </tr>\n",
       "  </thead>\n",
       "  <tbody>\n",
       "    <tr>\n",
       "      <th>4</th>\n",
       "      <td>CA</td>\n",
       "      <td>13205</td>\n",
       "      <td>15388</td>\n",
       "      <td>0.858136</td>\n",
       "    </tr>\n",
       "    <tr>\n",
       "      <th>43</th>\n",
       "      <td>TX</td>\n",
       "      <td>6014</td>\n",
       "      <td>7396</td>\n",
       "      <td>0.813142</td>\n",
       "    </tr>\n",
       "    <tr>\n",
       "      <th>34</th>\n",
       "      <td>NY</td>\n",
       "      <td>6291</td>\n",
       "      <td>7318</td>\n",
       "      <td>0.859661</td>\n",
       "    </tr>\n",
       "    <tr>\n",
       "      <th>9</th>\n",
       "      <td>FL</td>\n",
       "      <td>5144</td>\n",
       "      <td>6185</td>\n",
       "      <td>0.831690</td>\n",
       "    </tr>\n",
       "    <tr>\n",
       "      <th>27</th>\n",
       "      <td>NC</td>\n",
       "      <td>4353</td>\n",
       "      <td>5091</td>\n",
       "      <td>0.855038</td>\n",
       "    </tr>\n",
       "    <tr>\n",
       "      <th>14</th>\n",
       "      <td>IL</td>\n",
       "      <td>3710</td>\n",
       "      <td>4350</td>\n",
       "      <td>0.852874</td>\n",
       "    </tr>\n",
       "    <tr>\n",
       "      <th>10</th>\n",
       "      <td>GA</td>\n",
       "      <td>3329</td>\n",
       "      <td>3963</td>\n",
       "      <td>0.840020</td>\n",
       "    </tr>\n",
       "    <tr>\n",
       "      <th>40</th>\n",
       "      <td>SC</td>\n",
       "      <td>3385</td>\n",
       "      <td>3936</td>\n",
       "      <td>0.860010</td>\n",
       "    </tr>\n",
       "    <tr>\n",
       "      <th>22</th>\n",
       "      <td>MI</td>\n",
       "      <td>2672</td>\n",
       "      <td>3161</td>\n",
       "      <td>0.845302</td>\n",
       "    </tr>\n",
       "    <tr>\n",
       "      <th>38</th>\n",
       "      <td>PA</td>\n",
       "      <td>2658</td>\n",
       "      <td>3109</td>\n",
       "      <td>0.854937</td>\n",
       "    </tr>\n",
       "    <tr>\n",
       "      <th>15</th>\n",
       "      <td>IN</td>\n",
       "      <td>2214</td>\n",
       "      <td>2620</td>\n",
       "      <td>0.845038</td>\n",
       "    </tr>\n",
       "    <tr>\n",
       "      <th>24</th>\n",
       "      <td>MO</td>\n",
       "      <td>2202</td>\n",
       "      <td>2576</td>\n",
       "      <td>0.854814</td>\n",
       "    </tr>\n",
       "    <tr>\n",
       "      <th>35</th>\n",
       "      <td>OH</td>\n",
       "      <td>2159</td>\n",
       "      <td>2467</td>\n",
       "      <td>0.875152</td>\n",
       "    </tr>\n",
       "    <tr>\n",
       "      <th>18</th>\n",
       "      <td>LA</td>\n",
       "      <td>1990</td>\n",
       "      <td>2394</td>\n",
       "      <td>0.831245</td>\n",
       "    </tr>\n",
       "    <tr>\n",
       "      <th>19</th>\n",
       "      <td>MA</td>\n",
       "      <td>2055</td>\n",
       "      <td>2389</td>\n",
       "      <td>0.860193</td>\n",
       "    </tr>\n",
       "    <tr>\n",
       "      <th>47</th>\n",
       "      <td>WA</td>\n",
       "      <td>2045</td>\n",
       "      <td>2334</td>\n",
       "      <td>0.876178</td>\n",
       "    </tr>\n",
       "    <tr>\n",
       "      <th>36</th>\n",
       "      <td>OK</td>\n",
       "      <td>1900</td>\n",
       "      <td>2276</td>\n",
       "      <td>0.834798</td>\n",
       "    </tr>\n",
       "    <tr>\n",
       "      <th>31</th>\n",
       "      <td>NJ</td>\n",
       "      <td>1888</td>\n",
       "      <td>2237</td>\n",
       "      <td>0.843987</td>\n",
       "    </tr>\n",
       "    <tr>\n",
       "      <th>3</th>\n",
       "      <td>AZ</td>\n",
       "      <td>1800</td>\n",
       "      <td>2147</td>\n",
       "      <td>0.838379</td>\n",
       "    </tr>\n",
       "    <tr>\n",
       "      <th>45</th>\n",
       "      <td>VA</td>\n",
       "      <td>1739</td>\n",
       "      <td>2045</td>\n",
       "      <td>0.850367</td>\n",
       "    </tr>\n",
       "  </tbody>\n",
       "</table>\n",
       "</div>"
      ],
      "text/plain": [
       "   school_state  project_is_approved  total   Average\n",
       "4            CA                13205  15388  0.858136\n",
       "43           TX                 6014   7396  0.813142\n",
       "34           NY                 6291   7318  0.859661\n",
       "9            FL                 5144   6185  0.831690\n",
       "27           NC                 4353   5091  0.855038\n",
       "14           IL                 3710   4350  0.852874\n",
       "10           GA                 3329   3963  0.840020\n",
       "40           SC                 3385   3936  0.860010\n",
       "22           MI                 2672   3161  0.845302\n",
       "38           PA                 2658   3109  0.854937\n",
       "15           IN                 2214   2620  0.845038\n",
       "24           MO                 2202   2576  0.854814\n",
       "35           OH                 2159   2467  0.875152\n",
       "18           LA                 1990   2394  0.831245\n",
       "19           MA                 2055   2389  0.860193\n",
       "47           WA                 2045   2334  0.876178\n",
       "36           OK                 1900   2276  0.834798\n",
       "31           NJ                 1888   2237  0.843987\n",
       "3            AZ                 1800   2147  0.838379\n",
       "45           VA                 1739   2045  0.850367"
      ]
     },
     "execution_count": 127,
     "metadata": {},
     "output_type": "execute_result"
    }
   ],
   "source": [
    "univariate_analysis(project_data,\"school_state\",\"project_is_approved\",top = 20)"
   ]
  },
  {
   "cell_type": "markdown",
   "metadata": {},
   "source": [
    "<h3 style = \"color:red\"> From the above plot we know that state california returned high number of applications and from state virginia got least no.of applications</h3>"
   ]
  },
  {
   "cell_type": "markdown",
   "metadata": {},
   "source": [
    "<h1 style = \"color:yellow\">Analysis on feature school state</h1>\n",
    "<h3>From the below plot we come to know that state ca(california) stands high while vt stands least</h3>"
   ]
  },
  {
   "cell_type": "code",
   "execution_count": 128,
   "metadata": {},
   "outputs": [
    {
     "name": "stdout",
     "output_type": "stream",
     "text": [
      "0.8555588538301699\n"
     ]
    },
    {
     "data": {
      "image/png": "[encoded data removed]",
      "text/plain": [
       "<Figure size 432x288 with 1 Axes>"
      ]
     },
     "metadata": {
      "needs_background": "light"
     },
     "output_type": "display_data"
    },
    {
     "data": {
      "text/html": [
       "<div>\n",
       "<style scoped>\n",
       "    .dataframe tbody tr th:only-of-type {\n",
       "        vertical-align: middle;\n",
       "    }\n",
       "\n",
       "    .dataframe tbody tr th {\n",
       "        vertical-align: top;\n",
       "    }\n",
       "\n",
       "    .dataframe thead th {\n",
       "        text-align: right;\n",
       "    }\n",
       "</style>\n",
       "<table border=\"1\" class=\"dataframe\">\n",
       "  <thead>\n",
       "    <tr style=\"text-align: right;\">\n",
       "      <th></th>\n",
       "      <th>teacher_prefix</th>\n",
       "      <th>project_is_approved</th>\n",
       "      <th>total</th>\n",
       "      <th>Average</th>\n",
       "    </tr>\n",
       "  </thead>\n",
       "  <tbody>\n",
       "    <tr>\n",
       "      <th>2</th>\n",
       "      <td>Mrs.</td>\n",
       "      <td>48997</td>\n",
       "      <td>57269</td>\n",
       "      <td>0.855559</td>\n",
       "    </tr>\n",
       "    <tr>\n",
       "      <th>3</th>\n",
       "      <td>Ms.</td>\n",
       "      <td>32860</td>\n",
       "      <td>38955</td>\n",
       "      <td>0.843537</td>\n",
       "    </tr>\n",
       "    <tr>\n",
       "      <th>1</th>\n",
       "      <td>Mr.</td>\n",
       "      <td>8960</td>\n",
       "      <td>10648</td>\n",
       "      <td>0.841473</td>\n",
       "    </tr>\n",
       "    <tr>\n",
       "      <th>4</th>\n",
       "      <td>Teacher</td>\n",
       "      <td>1877</td>\n",
       "      <td>2360</td>\n",
       "      <td>0.795339</td>\n",
       "    </tr>\n",
       "    <tr>\n",
       "      <th>0</th>\n",
       "      <td>Dr.</td>\n",
       "      <td>9</td>\n",
       "      <td>13</td>\n",
       "      <td>0.692308</td>\n",
       "    </tr>\n",
       "  </tbody>\n",
       "</table>\n",
       "</div>"
      ],
      "text/plain": [
       "  teacher_prefix  project_is_approved  total   Average\n",
       "2           Mrs.                48997  57269  0.855559\n",
       "3            Ms.                32860  38955  0.843537\n",
       "1            Mr.                 8960  10648  0.841473\n",
       "4        Teacher                 1877   2360  0.795339\n",
       "0            Dr.                    9     13  0.692308"
      ]
     },
     "execution_count": 128,
     "metadata": {},
     "output_type": "execute_result"
    }
   ],
   "source": [
    "univariate_analysis(project_data,\"teacher_prefix\",\"project_is_approved\")"
   ]
  },
  {
   "cell_type": "markdown",
   "metadata": {},
   "source": [
    "<h3 style = \"color:red\"> From the above plot we know that teacher_prefix contains mrs returned high number of applications and with prefix_dr  got least no.of applications it is also observable that it contain low average of applications that are approved </h3>"
   ]
  },
  {
   "cell_type": "markdown",
   "metadata": {},
   "source": [
    "<h2 style = \"color:yellow\"> Analysing the teachers </h2>"
   ]
  },
  {
   "cell_type": "code",
   "execution_count": 8,
   "metadata": {},
   "outputs": [
    {
     "name": "stdout",
     "output_type": "stream",
     "text": [
      "                             teacher_id  project_is_approved  total\n",
      "70484  fa2f220b537e8653fb48878ebb38044d                   44     44\n",
      "62925  df8a4b7ad173b57f7ac52e447cc24043                   40     42\n",
      "8702   1f64dcec848be8e95c4482cc845706b2                   40     42\n",
      "34570  7b17c95da53e3d1f011f84232ad01238                   34     34\n",
      "49149  ae67d8bbc64ec3bf7fd2db1297721160                   31     33\n",
      "...                                 ...                  ...    ...\n",
      "28834  66abe51a2513e5fb5fdfc742a79f320f                    0      1\n",
      "45501  a19433dacedcf6e299645ac529898f87                    0      1\n",
      "61026  d8c8fc70df1bd5a405a324389038ce0a                    0      1\n",
      "28842  66b6d6f4c6ae078995d855acae48274e                    0      1\n",
      "62066  dc6c3a4eb96af89b6742f0189a208943                    0      1\n",
      "\n",
      "[72168 rows x 3 columns]\n"
     ]
    }
   ],
   "source": [
    "analysis = pd.DataFrame(project_data.groupby(\"teacher_id\")[\"project_is_approved\"].agg(lambda x : x.eq(1).sum())).reset_index()\n",
    "analysis[\"total\"] = pd.DataFrame(project_data.groupby(\"teacher_id\")[\"project_is_approved\"].agg(total = \"count\")).reset_index()[\"total\"]\n",
    "analysis = analysis.sort_values(by = \"project_is_approved\",ascending = False)\n",
    "print(analysis)"
   ]
  },
  {
   "cell_type": "markdown",
   "metadata": {},
   "source": [
    "<h3 style = \"color:red\">The teacher with id fa2f220b537e8653fb48878ebb38044d  sent max 44 applications with full approval_rate."
   ]
  },
  {
   "cell_type": "markdown",
   "metadata": {},
   "source": [
    "<h1 style = \"color:yellow\">Analysis on feature project grade category</h1>"
   ]
  },
  {
   "cell_type": "code",
   "execution_count": 129,
   "metadata": {},
   "outputs": [
    {
     "name": "stdout",
     "output_type": "stream",
     "text": [
      "0.8543770363788136\n"
     ]
    },
    {
     "data": {
      "image/png": "[encoded data removed]",
      "text/plain": [
       "<Figure size 432x288 with 1 Axes>"
      ]
     },
     "metadata": {
      "needs_background": "light"
     },
     "output_type": "display_data"
    },
    {
     "data": {
      "text/html": [
       "<div>\n",
       "<style scoped>\n",
       "    .dataframe tbody tr th:only-of-type {\n",
       "        vertical-align: middle;\n",
       "    }\n",
       "\n",
       "    .dataframe tbody tr th {\n",
       "        vertical-align: top;\n",
       "    }\n",
       "\n",
       "    .dataframe thead th {\n",
       "        text-align: right;\n",
       "    }\n",
       "</style>\n",
       "<table border=\"1\" class=\"dataframe\">\n",
       "  <thead>\n",
       "    <tr style=\"text-align: right;\">\n",
       "      <th></th>\n",
       "      <th>project_grade_category</th>\n",
       "      <th>project_is_approved</th>\n",
       "      <th>total</th>\n",
       "      <th>Average</th>\n",
       "    </tr>\n",
       "  </thead>\n",
       "  <tbody>\n",
       "    <tr>\n",
       "      <th>3</th>\n",
       "      <td>Grades PreK-2</td>\n",
       "      <td>37536</td>\n",
       "      <td>44225</td>\n",
       "      <td>0.848751</td>\n",
       "    </tr>\n",
       "    <tr>\n",
       "      <th>0</th>\n",
       "      <td>Grades 3-5</td>\n",
       "      <td>31729</td>\n",
       "      <td>37137</td>\n",
       "      <td>0.854377</td>\n",
       "    </tr>\n",
       "    <tr>\n",
       "      <th>1</th>\n",
       "      <td>Grades 6-8</td>\n",
       "      <td>14258</td>\n",
       "      <td>16923</td>\n",
       "      <td>0.842522</td>\n",
       "    </tr>\n",
       "    <tr>\n",
       "      <th>2</th>\n",
       "      <td>Grades 9-12</td>\n",
       "      <td>9183</td>\n",
       "      <td>10963</td>\n",
       "      <td>0.837636</td>\n",
       "    </tr>\n",
       "  </tbody>\n",
       "</table>\n",
       "</div>"
      ],
      "text/plain": [
       "  project_grade_category  project_is_approved  total   Average\n",
       "3          Grades PreK-2                37536  44225  0.848751\n",
       "0             Grades 3-5                31729  37137  0.854377\n",
       "1             Grades 6-8                14258  16923  0.842522\n",
       "2            Grades 9-12                 9183  10963  0.837636"
      ]
     },
     "execution_count": 129,
     "metadata": {},
     "output_type": "execute_result"
    }
   ],
   "source": [
    "univariate_analysis(project_data,\"project_grade_category\",\"project_is_approved\")"
   ]
  },
  {
   "cell_type": "markdown",
   "metadata": {},
   "source": [
    "<h3 style = \"color:red\">Most of the applications where sent by grades prek-2 and least applications where sent by higher grade."
   ]
  },
  {
   "cell_type": "markdown",
   "metadata": {},
   "source": [
    "<h1 style = \"color:yellow\">Analysis on feature project subject categories</h1>"
   ]
  },
  {
   "cell_type": "code",
   "execution_count": 12,
   "metadata": {},
   "outputs": [],
   "source": [
    "def cleaning(project_data,col) :\n",
    "    categories = list(project_data[col].values)\n",
    "\n",
    "    cleaned_list = []\n",
    "    for i in categories:\n",
    "        temp = \"\"\n",
    "\n",
    "        for j in i.split(','): \n",
    "            if 'The' in j.split():\n",
    "                j=j.replace('The','') \n",
    "             \n",
    "            temp+=j.strip()+\" \" \n",
    "            temp = temp.replace('&',' ')\n",
    "        cleaned_list.append(temp.strip())\n",
    "    return cleaned_list \n",
    "    # print(cat_list)\n",
    "    "
   ]
  },
  {
   "cell_type": "code",
   "execution_count": 13,
   "metadata": {},
   "outputs": [
    {
     "data": {
      "text/html": [
       "<div>\n",
       "<style scoped>\n",
       "    .dataframe tbody tr th:only-of-type {\n",
       "        vertical-align: middle;\n",
       "    }\n",
       "\n",
       "    .dataframe tbody tr th {\n",
       "        vertical-align: top;\n",
       "    }\n",
       "\n",
       "    .dataframe thead th {\n",
       "        text-align: right;\n",
       "    }\n",
       "</style>\n",
       "<table border=\"1\" class=\"dataframe\">\n",
       "  <thead>\n",
       "    <tr style=\"text-align: right;\">\n",
       "      <th></th>\n",
       "      <th>Unnamed: 0</th>\n",
       "      <th>id</th>\n",
       "      <th>teacher_id</th>\n",
       "      <th>teacher_prefix</th>\n",
       "      <th>school_state</th>\n",
       "      <th>project_submitted_datetime</th>\n",
       "      <th>project_grade_category</th>\n",
       "      <th>project_subject_categories</th>\n",
       "      <th>project_subject_subcategories</th>\n",
       "      <th>project_title</th>\n",
       "      <th>project_essay_1</th>\n",
       "      <th>project_essay_2</th>\n",
       "      <th>project_essay_3</th>\n",
       "      <th>project_essay_4</th>\n",
       "      <th>project_resource_summary</th>\n",
       "      <th>teacher_number_of_previously_posted_projects</th>\n",
       "      <th>project_is_approved</th>\n",
       "      <th>clean_categories</th>\n",
       "    </tr>\n",
       "  </thead>\n",
       "  <tbody>\n",
       "    <tr>\n",
       "      <th>0</th>\n",
       "      <td>160221</td>\n",
       "      <td>p253737</td>\n",
       "      <td>c90749f5d961ff158d4b4d1e7dc665fc</td>\n",
       "      <td>Mrs.</td>\n",
       "      <td>IN</td>\n",
       "      <td>2016-12-05 13:43:57</td>\n",
       "      <td>Grades PreK-2</td>\n",
       "      <td>Literacy &amp; Language</td>\n",
       "      <td>ESL, Literacy</td>\n",
       "      <td>Educational Support for English Learners at Home</td>\n",
       "      <td>My students are English learners that are work...</td>\n",
       "      <td>\\\"The limits of your language are the limits o...</td>\n",
       "      <td>NaN</td>\n",
       "      <td>NaN</td>\n",
       "      <td>My students need opportunities to practice beg...</td>\n",
       "      <td>0</td>\n",
       "      <td>0</td>\n",
       "      <td>Literacy   Language</td>\n",
       "    </tr>\n",
       "    <tr>\n",
       "      <th>1</th>\n",
       "      <td>140945</td>\n",
       "      <td>p258326</td>\n",
       "      <td>897464ce9ddc600bced1151f324dd63a</td>\n",
       "      <td>Mr.</td>\n",
       "      <td>FL</td>\n",
       "      <td>2016-10-25 09:22:10</td>\n",
       "      <td>Grades 6-8</td>\n",
       "      <td>History &amp; Civics, Health &amp; Sports</td>\n",
       "      <td>Civics &amp; Government, Team Sports</td>\n",
       "      <td>Wanted: Projector for Hungry Learners</td>\n",
       "      <td>Our students arrive to our school eager to lea...</td>\n",
       "      <td>The projector we need for our school is very c...</td>\n",
       "      <td>NaN</td>\n",
       "      <td>NaN</td>\n",
       "      <td>My students need a projector to help with view...</td>\n",
       "      <td>7</td>\n",
       "      <td>1</td>\n",
       "      <td>History   Civics Health   Sports</td>\n",
       "    </tr>\n",
       "  </tbody>\n",
       "</table>\n",
       "</div>"
      ],
      "text/plain": [
       "   Unnamed: 0       id                        teacher_id teacher_prefix  \\\n",
       "0      160221  p253737  c90749f5d961ff158d4b4d1e7dc665fc           Mrs.   \n",
       "1      140945  p258326  897464ce9ddc600bced1151f324dd63a            Mr.   \n",
       "\n",
       "  school_state project_submitted_datetime project_grade_category  \\\n",
       "0           IN        2016-12-05 13:43:57          Grades PreK-2   \n",
       "1           FL        2016-10-25 09:22:10             Grades 6-8   \n",
       "\n",
       "          project_subject_categories     project_subject_subcategories  \\\n",
       "0                Literacy & Language                     ESL, Literacy   \n",
       "1  History & Civics, Health & Sports  Civics & Government, Team Sports   \n",
       "\n",
       "                                      project_title  \\\n",
       "0  Educational Support for English Learners at Home   \n",
       "1             Wanted: Projector for Hungry Learners   \n",
       "\n",
       "                                     project_essay_1  \\\n",
       "0  My students are English learners that are work...   \n",
       "1  Our students arrive to our school eager to lea...   \n",
       "\n",
       "                                     project_essay_2 project_essay_3  \\\n",
       "0  \\\"The limits of your language are the limits o...             NaN   \n",
       "1  The projector we need for our school is very c...             NaN   \n",
       "\n",
       "  project_essay_4                           project_resource_summary  \\\n",
       "0             NaN  My students need opportunities to practice beg...   \n",
       "1             NaN  My students need a projector to help with view...   \n",
       "\n",
       "   teacher_number_of_previously_posted_projects  project_is_approved  \\\n",
       "0                                             0                    0   \n",
       "1                                             7                    1   \n",
       "\n",
       "                   clean_categories  \n",
       "0               Literacy   Language  \n",
       "1  History   Civics Health   Sports  "
      ]
     },
     "execution_count": 13,
     "metadata": {},
     "output_type": "execute_result"
    }
   ],
   "source": [
    "cat_list = cleaning(project_data,\"project_subject_categories\")\n",
    "project_data['clean_categories'] = cat_list\n",
    "project_data.head(2)"
   ]
  },
  {
   "cell_type": "code",
   "execution_count": 131,
   "metadata": {},
   "outputs": [
    {
     "data": {
      "text/plain": [
       "<AxesSubplot:xlabel='project_is_approved', ylabel='clean_categories'>"
      ]
     },
     "execution_count": 131,
     "metadata": {},
     "output_type": "execute_result"
    },
    {
     "data": {
      "image/png": "[encoded data removed]",
      "text/plain": [
       "<Figure size 1500x1000 with 1 Axes>"
      ]
     },
     "metadata": {
      "needs_background": "light"
     },
     "output_type": "display_data"
    }
   ],
   "source": [
    "fig, ax = plt.subplots(1, 1, dpi=100, figsize=(15, 10))\n",
    "sns.barplot(x=project_data.project_is_approved, y=project_data.clean_categories, ax=ax)"
   ]
  },
  {
   "cell_type": "code",
   "execution_count": 132,
   "metadata": {},
   "outputs": [
    {
     "name": "stdout",
     "output_type": "stream",
     "text": [
      "0.9565217391304348\n"
     ]
    },
    {
     "data": {
      "image/png": "[encoded data removed]",
      "text/plain": [
       "<Figure size 432x288 with 1 Axes>"
      ]
     },
     "metadata": {
      "needs_background": "light"
     },
     "output_type": "display_data"
    },
    {
     "data": {
      "text/html": [
       "<div>\n",
       "<style scoped>\n",
       "    .dataframe tbody tr th:only-of-type {\n",
       "        vertical-align: middle;\n",
       "    }\n",
       "\n",
       "    .dataframe tbody tr th {\n",
       "        vertical-align: top;\n",
       "    }\n",
       "\n",
       "    .dataframe thead th {\n",
       "        text-align: right;\n",
       "    }\n",
       "</style>\n",
       "<table border=\"1\" class=\"dataframe\">\n",
       "  <thead>\n",
       "    <tr style=\"text-align: right;\">\n",
       "      <th></th>\n",
       "      <th>clean_categories</th>\n",
       "      <th>project_is_approved</th>\n",
       "      <th>total</th>\n",
       "      <th>Average</th>\n",
       "    </tr>\n",
       "  </thead>\n",
       "  <tbody>\n",
       "    <tr>\n",
       "      <th>24</th>\n",
       "      <td>Literacy   Language</td>\n",
       "      <td>20520</td>\n",
       "      <td>23655</td>\n",
       "      <td>0.867470</td>\n",
       "    </tr>\n",
       "    <tr>\n",
       "      <th>32</th>\n",
       "      <td>Math   Science</td>\n",
       "      <td>13991</td>\n",
       "      <td>17072</td>\n",
       "      <td>0.819529</td>\n",
       "    </tr>\n",
       "    <tr>\n",
       "      <th>28</th>\n",
       "      <td>Literacy   Language Math   Science</td>\n",
       "      <td>12725</td>\n",
       "      <td>14636</td>\n",
       "      <td>0.869432</td>\n",
       "    </tr>\n",
       "    <tr>\n",
       "      <th>8</th>\n",
       "      <td>Health   Sports</td>\n",
       "      <td>8640</td>\n",
       "      <td>10177</td>\n",
       "      <td>0.848973</td>\n",
       "    </tr>\n",
       "    <tr>\n",
       "      <th>40</th>\n",
       "      <td>Music    Arts</td>\n",
       "      <td>4429</td>\n",
       "      <td>5180</td>\n",
       "      <td>0.855019</td>\n",
       "    </tr>\n",
       "    <tr>\n",
       "      <th>46</th>\n",
       "      <td>Special Needs</td>\n",
       "      <td>3431</td>\n",
       "      <td>4226</td>\n",
       "      <td>0.811879</td>\n",
       "    </tr>\n",
       "    <tr>\n",
       "      <th>30</th>\n",
       "      <td>Literacy   Language Special Needs</td>\n",
       "      <td>3389</td>\n",
       "      <td>3961</td>\n",
       "      <td>0.855592</td>\n",
       "    </tr>\n",
       "    <tr>\n",
       "      <th>0</th>\n",
       "      <td>Applied Learning</td>\n",
       "      <td>3072</td>\n",
       "      <td>3771</td>\n",
       "      <td>0.814638</td>\n",
       "    </tr>\n",
       "    <tr>\n",
       "      <th>36</th>\n",
       "      <td>Math   Science Literacy   Language</td>\n",
       "      <td>1968</td>\n",
       "      <td>2289</td>\n",
       "      <td>0.859764</td>\n",
       "    </tr>\n",
       "    <tr>\n",
       "      <th>3</th>\n",
       "      <td>Applied Learning Literacy   Language</td>\n",
       "      <td>1887</td>\n",
       "      <td>2191</td>\n",
       "      <td>0.861251</td>\n",
       "    </tr>\n",
       "    <tr>\n",
       "      <th>16</th>\n",
       "      <td>History   Civics</td>\n",
       "      <td>1545</td>\n",
       "      <td>1851</td>\n",
       "      <td>0.834684</td>\n",
       "    </tr>\n",
       "    <tr>\n",
       "      <th>38</th>\n",
       "      <td>Math   Science Special Needs</td>\n",
       "      <td>1531</td>\n",
       "      <td>1840</td>\n",
       "      <td>0.832065</td>\n",
       "    </tr>\n",
       "    <tr>\n",
       "      <th>29</th>\n",
       "      <td>Literacy   Language Music    Arts</td>\n",
       "      <td>1475</td>\n",
       "      <td>1757</td>\n",
       "      <td>0.839499</td>\n",
       "    </tr>\n",
       "    <tr>\n",
       "      <th>37</th>\n",
       "      <td>Math   Science Music    Arts</td>\n",
       "      <td>1366</td>\n",
       "      <td>1642</td>\n",
       "      <td>0.831912</td>\n",
       "    </tr>\n",
       "    <tr>\n",
       "      <th>6</th>\n",
       "      <td>Applied Learning Special Needs</td>\n",
       "      <td>1195</td>\n",
       "      <td>1467</td>\n",
       "      <td>0.814588</td>\n",
       "    </tr>\n",
       "    <tr>\n",
       "      <th>19</th>\n",
       "      <td>History   Civics Literacy   Language</td>\n",
       "      <td>1271</td>\n",
       "      <td>1421</td>\n",
       "      <td>0.894441</td>\n",
       "    </tr>\n",
       "    <tr>\n",
       "      <th>14</th>\n",
       "      <td>Health   Sports Special Needs</td>\n",
       "      <td>1215</td>\n",
       "      <td>1391</td>\n",
       "      <td>0.873472</td>\n",
       "    </tr>\n",
       "    <tr>\n",
       "      <th>50</th>\n",
       "      <td>Warmth Care   Hunger</td>\n",
       "      <td>1212</td>\n",
       "      <td>1309</td>\n",
       "      <td>0.925898</td>\n",
       "    </tr>\n",
       "    <tr>\n",
       "      <th>33</th>\n",
       "      <td>Math   Science Applied Learning</td>\n",
       "      <td>1019</td>\n",
       "      <td>1220</td>\n",
       "      <td>0.835246</td>\n",
       "    </tr>\n",
       "    <tr>\n",
       "      <th>4</th>\n",
       "      <td>Applied Learning Math   Science</td>\n",
       "      <td>855</td>\n",
       "      <td>1052</td>\n",
       "      <td>0.812738</td>\n",
       "    </tr>\n",
       "  </tbody>\n",
       "</table>\n",
       "</div>"
      ],
      "text/plain": [
       "                        clean_categories  project_is_approved  total   Average\n",
       "24                   Literacy   Language                20520  23655  0.867470\n",
       "32                        Math   Science                13991  17072  0.819529\n",
       "28    Literacy   Language Math   Science                12725  14636  0.869432\n",
       "8                        Health   Sports                 8640  10177  0.848973\n",
       "40                         Music    Arts                 4429   5180  0.855019\n",
       "46                         Special Needs                 3431   4226  0.811879\n",
       "30     Literacy   Language Special Needs                 3389   3961  0.855592\n",
       "0                       Applied Learning                 3072   3771  0.814638\n",
       "36    Math   Science Literacy   Language                 1968   2289  0.859764\n",
       "3   Applied Learning Literacy   Language                 1887   2191  0.861251\n",
       "16                      History   Civics                 1545   1851  0.834684\n",
       "38          Math   Science Special Needs                 1531   1840  0.832065\n",
       "29     Literacy   Language Music    Arts                 1475   1757  0.839499\n",
       "37          Math   Science Music    Arts                 1366   1642  0.831912\n",
       "6         Applied Learning Special Needs                 1195   1467  0.814588\n",
       "19  History   Civics Literacy   Language                 1271   1421  0.894441\n",
       "14         Health   Sports Special Needs                 1215   1391  0.873472\n",
       "50                  Warmth Care   Hunger                 1212   1309  0.925898\n",
       "33       Math   Science Applied Learning                 1019   1220  0.835246\n",
       "4        Applied Learning Math   Science                  855   1052  0.812738"
      ]
     },
     "execution_count": 132,
     "metadata": {},
     "output_type": "execute_result"
    }
   ],
   "source": [
    "univariate_analysis(project_data,\"clean_categories\",\"project_is_approved\",top = 20)"
   ]
  },
  {
   "cell_type": "markdown",
   "metadata": {},
   "source": [
    "<h3 style = \"color:red\">subject category literacy language  has received many applications and from applied machine learning it has received least applications."
   ]
  },
  {
   "cell_type": "markdown",
   "metadata": {},
   "source": [
    "<h1 style = \"color:yellow\">Analysing cleaned subject_subcategories</h1>"
   ]
  },
  {
   "cell_type": "code",
   "execution_count": 22,
   "metadata": {},
   "outputs": [
    {
     "data": {
      "text/html": [
       "<div>\n",
       "<style scoped>\n",
       "    .dataframe tbody tr th:only-of-type {\n",
       "        vertical-align: middle;\n",
       "    }\n",
       "\n",
       "    .dataframe tbody tr th {\n",
       "        vertical-align: top;\n",
       "    }\n",
       "\n",
       "    .dataframe thead th {\n",
       "        text-align: right;\n",
       "    }\n",
       "</style>\n",
       "<table border=\"1\" class=\"dataframe\">\n",
       "  <thead>\n",
       "    <tr style=\"text-align: right;\">\n",
       "      <th></th>\n",
       "      <th>Unnamed: 0</th>\n",
       "      <th>id</th>\n",
       "      <th>teacher_id</th>\n",
       "      <th>teacher_prefix</th>\n",
       "      <th>school_state</th>\n",
       "      <th>project_submitted_datetime</th>\n",
       "      <th>project_grade_category</th>\n",
       "      <th>project_subject_categories</th>\n",
       "      <th>project_subject_subcategories</th>\n",
       "      <th>project_title</th>\n",
       "      <th>project_essay_1</th>\n",
       "      <th>project_essay_2</th>\n",
       "      <th>project_essay_3</th>\n",
       "      <th>project_essay_4</th>\n",
       "      <th>project_resource_summary</th>\n",
       "      <th>teacher_number_of_previously_posted_projects</th>\n",
       "      <th>project_is_approved</th>\n",
       "      <th>clean_categories</th>\n",
       "      <th>clean_subcategories</th>\n",
       "    </tr>\n",
       "  </thead>\n",
       "  <tbody>\n",
       "    <tr>\n",
       "      <th>0</th>\n",
       "      <td>160221</td>\n",
       "      <td>p253737</td>\n",
       "      <td>c90749f5d961ff158d4b4d1e7dc665fc</td>\n",
       "      <td>Mrs.</td>\n",
       "      <td>IN</td>\n",
       "      <td>2016-12-05 13:43:57</td>\n",
       "      <td>Grades PreK-2</td>\n",
       "      <td>Literacy &amp; Language</td>\n",
       "      <td>ESL, Literacy</td>\n",
       "      <td>Educational Support for English Learners at Home</td>\n",
       "      <td>My students are English learners that are work...</td>\n",
       "      <td>\\\"The limits of your language are the limits o...</td>\n",
       "      <td>NaN</td>\n",
       "      <td>NaN</td>\n",
       "      <td>My students need opportunities to practice beg...</td>\n",
       "      <td>0</td>\n",
       "      <td>0</td>\n",
       "      <td>Literacy   Language</td>\n",
       "      <td>ESL Literacy</td>\n",
       "    </tr>\n",
       "    <tr>\n",
       "      <th>1</th>\n",
       "      <td>140945</td>\n",
       "      <td>p258326</td>\n",
       "      <td>897464ce9ddc600bced1151f324dd63a</td>\n",
       "      <td>Mr.</td>\n",
       "      <td>FL</td>\n",
       "      <td>2016-10-25 09:22:10</td>\n",
       "      <td>Grades 6-8</td>\n",
       "      <td>History &amp; Civics, Health &amp; Sports</td>\n",
       "      <td>Civics &amp; Government, Team Sports</td>\n",
       "      <td>Wanted: Projector for Hungry Learners</td>\n",
       "      <td>Our students arrive to our school eager to lea...</td>\n",
       "      <td>The projector we need for our school is very c...</td>\n",
       "      <td>NaN</td>\n",
       "      <td>NaN</td>\n",
       "      <td>My students need a projector to help with view...</td>\n",
       "      <td>7</td>\n",
       "      <td>1</td>\n",
       "      <td>History   Civics Health   Sports</td>\n",
       "      <td>Civics   Government Team Sports</td>\n",
       "    </tr>\n",
       "  </tbody>\n",
       "</table>\n",
       "</div>"
      ],
      "text/plain": [
       "   Unnamed: 0       id                        teacher_id teacher_prefix  \\\n",
       "0      160221  p253737  c90749f5d961ff158d4b4d1e7dc665fc           Mrs.   \n",
       "1      140945  p258326  897464ce9ddc600bced1151f324dd63a            Mr.   \n",
       "\n",
       "  school_state project_submitted_datetime project_grade_category  \\\n",
       "0           IN        2016-12-05 13:43:57          Grades PreK-2   \n",
       "1           FL        2016-10-25 09:22:10             Grades 6-8   \n",
       "\n",
       "          project_subject_categories     project_subject_subcategories  \\\n",
       "0                Literacy & Language                     ESL, Literacy   \n",
       "1  History & Civics, Health & Sports  Civics & Government, Team Sports   \n",
       "\n",
       "                                      project_title  \\\n",
       "0  Educational Support for English Learners at Home   \n",
       "1             Wanted: Projector for Hungry Learners   \n",
       "\n",
       "                                     project_essay_1  \\\n",
       "0  My students are English learners that are work...   \n",
       "1  Our students arrive to our school eager to lea...   \n",
       "\n",
       "                                     project_essay_2 project_essay_3  \\\n",
       "0  \\\"The limits of your language are the limits o...             NaN   \n",
       "1  The projector we need for our school is very c...             NaN   \n",
       "\n",
       "  project_essay_4                           project_resource_summary  \\\n",
       "0             NaN  My students need opportunities to practice beg...   \n",
       "1             NaN  My students need a projector to help with view...   \n",
       "\n",
       "   teacher_number_of_previously_posted_projects  project_is_approved  \\\n",
       "0                                             0                    0   \n",
       "1                                             7                    1   \n",
       "\n",
       "                   clean_categories              clean_subcategories  \n",
       "0               Literacy   Language                     ESL Literacy  \n",
       "1  History   Civics Health   Sports  Civics   Government Team Sports  "
      ]
     },
     "execution_count": 22,
     "metadata": {},
     "output_type": "execute_result"
    }
   ],
   "source": [
    "subcat_list = cleaning(project_data,\"project_subject_subcategories\")\n",
    "project_data['clean_subcategories'] = subcat_list\n",
    "project_data.head(2)"
   ]
  },
  {
   "cell_type": "code",
   "execution_count": 133,
   "metadata": {},
   "outputs": [
    {
     "name": "stdout",
     "output_type": "stream",
     "text": [
      "1.0\n"
     ]
    },
    {
     "data": {
      "image/png": "[encoded data removed]",
      "text/plain": [
       "<Figure size 432x288 with 1 Axes>"
      ]
     },
     "metadata": {
      "needs_background": "light"
     },
     "output_type": "display_data"
    },
    {
     "data": {
      "text/html": [
       "<div>\n",
       "<style scoped>\n",
       "    .dataframe tbody tr th:only-of-type {\n",
       "        vertical-align: middle;\n",
       "    }\n",
       "\n",
       "    .dataframe tbody tr th {\n",
       "        vertical-align: top;\n",
       "    }\n",
       "\n",
       "    .dataframe thead th {\n",
       "        text-align: right;\n",
       "    }\n",
       "</style>\n",
       "<table border=\"1\" class=\"dataframe\">\n",
       "  <thead>\n",
       "    <tr style=\"text-align: right;\">\n",
       "      <th></th>\n",
       "      <th>clean_subcategories</th>\n",
       "      <th>project_is_approved</th>\n",
       "      <th>total</th>\n",
       "      <th>Average</th>\n",
       "    </tr>\n",
       "  </thead>\n",
       "  <tbody>\n",
       "    <tr>\n",
       "      <th>317</th>\n",
       "      <td>Literacy</td>\n",
       "      <td>8371</td>\n",
       "      <td>9486</td>\n",
       "      <td>0.882458</td>\n",
       "    </tr>\n",
       "    <tr>\n",
       "      <th>319</th>\n",
       "      <td>Literacy Mathematics</td>\n",
       "      <td>7260</td>\n",
       "      <td>8325</td>\n",
       "      <td>0.872072</td>\n",
       "    </tr>\n",
       "    <tr>\n",
       "      <th>331</th>\n",
       "      <td>Literature   Writing Mathematics</td>\n",
       "      <td>5140</td>\n",
       "      <td>5923</td>\n",
       "      <td>0.867803</td>\n",
       "    </tr>\n",
       "    <tr>\n",
       "      <th>318</th>\n",
       "      <td>Literacy Literature   Writing</td>\n",
       "      <td>4823</td>\n",
       "      <td>5571</td>\n",
       "      <td>0.865733</td>\n",
       "    </tr>\n",
       "    <tr>\n",
       "      <th>342</th>\n",
       "      <td>Mathematics</td>\n",
       "      <td>4385</td>\n",
       "      <td>5379</td>\n",
       "      <td>0.815207</td>\n",
       "    </tr>\n",
       "    <tr>\n",
       "      <th>330</th>\n",
       "      <td>Literature   Writing</td>\n",
       "      <td>3846</td>\n",
       "      <td>4501</td>\n",
       "      <td>0.854477</td>\n",
       "    </tr>\n",
       "    <tr>\n",
       "      <th>392</th>\n",
       "      <td>Special Needs</td>\n",
       "      <td>3431</td>\n",
       "      <td>4226</td>\n",
       "      <td>0.811879</td>\n",
       "    </tr>\n",
       "    <tr>\n",
       "      <th>289</th>\n",
       "      <td>Health   Wellness</td>\n",
       "      <td>3131</td>\n",
       "      <td>3583</td>\n",
       "      <td>0.873849</td>\n",
       "    </tr>\n",
       "    <tr>\n",
       "      <th>18</th>\n",
       "      <td>Applied Sciences Mathematics</td>\n",
       "      <td>2824</td>\n",
       "      <td>3399</td>\n",
       "      <td>0.830833</td>\n",
       "    </tr>\n",
       "    <tr>\n",
       "      <th>0</th>\n",
       "      <td>Applied Sciences</td>\n",
       "      <td>2038</td>\n",
       "      <td>2492</td>\n",
       "      <td>0.817817</td>\n",
       "    </tr>\n",
       "    <tr>\n",
       "      <th>326</th>\n",
       "      <td>Literacy Special Needs</td>\n",
       "      <td>2111</td>\n",
       "      <td>2440</td>\n",
       "      <td>0.865164</td>\n",
       "    </tr>\n",
       "    <tr>\n",
       "      <th>258</th>\n",
       "      <td>Gym   Fitness Health   Wellness</td>\n",
       "      <td>1978</td>\n",
       "      <td>2264</td>\n",
       "      <td>0.873675</td>\n",
       "    </tr>\n",
       "    <tr>\n",
       "      <th>138</th>\n",
       "      <td>ESL Literacy</td>\n",
       "      <td>1944</td>\n",
       "      <td>2234</td>\n",
       "      <td>0.870188</td>\n",
       "    </tr>\n",
       "    <tr>\n",
       "      <th>398</th>\n",
       "      <td>Visual Arts</td>\n",
       "      <td>1827</td>\n",
       "      <td>2217</td>\n",
       "      <td>0.824087</td>\n",
       "    </tr>\n",
       "    <tr>\n",
       "      <th>353</th>\n",
       "      <td>Music</td>\n",
       "      <td>1305</td>\n",
       "      <td>1472</td>\n",
       "      <td>0.886549</td>\n",
       "    </tr>\n",
       "    <tr>\n",
       "      <th>400</th>\n",
       "      <td>Warmth Care   Hunger</td>\n",
       "      <td>1212</td>\n",
       "      <td>1309</td>\n",
       "      <td>0.925898</td>\n",
       "    </tr>\n",
       "    <tr>\n",
       "      <th>338</th>\n",
       "      <td>Literature   Writing Special Needs</td>\n",
       "      <td>1093</td>\n",
       "      <td>1306</td>\n",
       "      <td>0.836907</td>\n",
       "    </tr>\n",
       "    <tr>\n",
       "      <th>256</th>\n",
       "      <td>Gym   Fitness</td>\n",
       "      <td>1002</td>\n",
       "      <td>1195</td>\n",
       "      <td>0.838494</td>\n",
       "    </tr>\n",
       "    <tr>\n",
       "      <th>300</th>\n",
       "      <td>Health   Wellness Special Needs</td>\n",
       "      <td>1044</td>\n",
       "      <td>1189</td>\n",
       "      <td>0.878049</td>\n",
       "    </tr>\n",
       "    <tr>\n",
       "      <th>349</th>\n",
       "      <td>Mathematics Special Needs</td>\n",
       "      <td>972</td>\n",
       "      <td>1187</td>\n",
       "      <td>0.818871</td>\n",
       "    </tr>\n",
       "  </tbody>\n",
       "</table>\n",
       "</div>"
      ],
      "text/plain": [
       "                    clean_subcategories  project_is_approved  total   Average\n",
       "317                            Literacy                 8371   9486  0.882458\n",
       "319                Literacy Mathematics                 7260   8325  0.872072\n",
       "331    Literature   Writing Mathematics                 5140   5923  0.867803\n",
       "318       Literacy Literature   Writing                 4823   5571  0.865733\n",
       "342                         Mathematics                 4385   5379  0.815207\n",
       "330                Literature   Writing                 3846   4501  0.854477\n",
       "392                       Special Needs                 3431   4226  0.811879\n",
       "289                   Health   Wellness                 3131   3583  0.873849\n",
       "18         Applied Sciences Mathematics                 2824   3399  0.830833\n",
       "0                      Applied Sciences                 2038   2492  0.817817\n",
       "326              Literacy Special Needs                 2111   2440  0.865164\n",
       "258     Gym   Fitness Health   Wellness                 1978   2264  0.873675\n",
       "138                        ESL Literacy                 1944   2234  0.870188\n",
       "398                         Visual Arts                 1827   2217  0.824087\n",
       "353                               Music                 1305   1472  0.886549\n",
       "400                Warmth Care   Hunger                 1212   1309  0.925898\n",
       "338  Literature   Writing Special Needs                 1093   1306  0.836907\n",
       "256                       Gym   Fitness                 1002   1195  0.838494\n",
       "300     Health   Wellness Special Needs                 1044   1189  0.878049\n",
       "349           Mathematics Special Needs                  972   1187  0.818871"
      ]
     },
     "execution_count": 133,
     "metadata": {},
     "output_type": "execute_result"
    }
   ],
   "source": [
    "univariate_analysis(project_data,\"clean_subcategories\",\"project_is_approved\",top = 20)"
   ]
  },
  {
   "cell_type": "markdown",
   "metadata": {},
   "source": [
    "<h1 style = \"color:green\">Resources data(it contains how much the quantity and price of the products)"
   ]
  },
  {
   "cell_type": "code",
   "execution_count": 26,
   "metadata": {},
   "outputs": [
    {
     "data": {
      "text/html": [
       "<div>\n",
       "<style scoped>\n",
       "    .dataframe tbody tr th:only-of-type {\n",
       "        vertical-align: middle;\n",
       "    }\n",
       "\n",
       "    .dataframe tbody tr th {\n",
       "        vertical-align: top;\n",
       "    }\n",
       "\n",
       "    .dataframe thead th {\n",
       "        text-align: right;\n",
       "    }\n",
       "</style>\n",
       "<table border=\"1\" class=\"dataframe\">\n",
       "  <thead>\n",
       "    <tr style=\"text-align: right;\">\n",
       "      <th></th>\n",
       "      <th>id</th>\n",
       "      <th>description</th>\n",
       "      <th>quantity</th>\n",
       "      <th>price</th>\n",
       "    </tr>\n",
       "  </thead>\n",
       "  <tbody>\n",
       "    <tr>\n",
       "      <th>0</th>\n",
       "      <td>p233245</td>\n",
       "      <td>LC652 - Lakeshore Double-Space Mobile Drying Rack</td>\n",
       "      <td>1</td>\n",
       "      <td>149.00</td>\n",
       "    </tr>\n",
       "    <tr>\n",
       "      <th>1</th>\n",
       "      <td>p069063</td>\n",
       "      <td>Bouncy Bands for Desks (Blue support pipes)</td>\n",
       "      <td>3</td>\n",
       "      <td>14.95</td>\n",
       "    </tr>\n",
       "    <tr>\n",
       "      <th>2</th>\n",
       "      <td>p069063</td>\n",
       "      <td>Cory Stories: A Kid's Book About Living With Adhd</td>\n",
       "      <td>1</td>\n",
       "      <td>8.45</td>\n",
       "    </tr>\n",
       "    <tr>\n",
       "      <th>3</th>\n",
       "      <td>p069063</td>\n",
       "      <td>Dixon Ticonderoga Wood-Cased #2 HB Pencils, Bo...</td>\n",
       "      <td>2</td>\n",
       "      <td>13.59</td>\n",
       "    </tr>\n",
       "    <tr>\n",
       "      <th>4</th>\n",
       "      <td>p069063</td>\n",
       "      <td>EDUCATIONAL INSIGHTS FLUORESCENT LIGHT FILTERS...</td>\n",
       "      <td>3</td>\n",
       "      <td>24.95</td>\n",
       "    </tr>\n",
       "  </tbody>\n",
       "</table>\n",
       "</div>"
      ],
      "text/plain": [
       "        id                                        description  quantity  \\\n",
       "0  p233245  LC652 - Lakeshore Double-Space Mobile Drying Rack         1   \n",
       "1  p069063        Bouncy Bands for Desks (Blue support pipes)         3   \n",
       "2  p069063  Cory Stories: A Kid's Book About Living With Adhd         1   \n",
       "3  p069063  Dixon Ticonderoga Wood-Cased #2 HB Pencils, Bo...         2   \n",
       "4  p069063  EDUCATIONAL INSIGHTS FLUORESCENT LIGHT FILTERS...         3   \n",
       "\n",
       "    price  \n",
       "0  149.00  \n",
       "1   14.95  \n",
       "2    8.45  \n",
       "3   13.59  \n",
       "4   24.95  "
      ]
     },
     "execution_count": 26,
     "metadata": {},
     "output_type": "execute_result"
    }
   ],
   "source": [
    "resources_data.head()"
   ]
  },
  {
   "cell_type": "markdown",
   "metadata": {},
   "source": [
    "<h2 style = \"color:yellow\"> Adding price to the project_data from the resources data </h2> "
   ]
  },
  {
   "cell_type": "code",
   "execution_count": 27,
   "metadata": {},
   "outputs": [],
   "source": [
    "# we will match the id with resources data and project_data \n",
    "#from the resources data we will find the price of the projects\n",
    "price_data = resources_data.groupby(\"id\").agg({\"price\" : \"sum\",\"quantity\" : \"sum\"}).reset_index()\n",
    "project_data = pd.merge(project_data,price_data,on = \"id\",how = \"left\")\n"
   ]
  },
  {
   "cell_type": "markdown",
   "metadata": {},
   "source": [
    "<h1 style = \"color:yellow\">Cleaning the data</h1>"
   ]
  },
  {
   "cell_type": "markdown",
   "metadata": {},
   "source": [
    "<h2 style = \"color:green\">cleaning:Teacher Prefix</h2>"
   ]
  },
  {
   "cell_type": "code",
   "execution_count": 28,
   "metadata": {},
   "outputs": [
    {
     "data": {
      "text/plain": [
       "Mrs.       57269\n",
       "Ms.        38955\n",
       "Mr.        10648\n",
       "Teacher     2360\n",
       "Dr.           13\n",
       "Name: teacher_prefix, dtype: int64"
      ]
     },
     "execution_count": 28,
     "metadata": {},
     "output_type": "execute_result"
    }
   ],
   "source": [
    "project_data['teacher_prefix'].value_counts()"
   ]
  },
  {
   "cell_type": "code",
   "execution_count": 29,
   "metadata": {},
   "outputs": [
    {
     "data": {
      "text/plain": [
       "3"
      ]
     },
     "execution_count": 29,
     "metadata": {},
     "output_type": "execute_result"
    }
   ],
   "source": [
    "project_data[\"teacher_prefix\"].isnull().values.sum()"
   ]
  },
  {
   "cell_type": "code",
   "execution_count": 30,
   "metadata": {},
   "outputs": [],
   "source": [
    "project_data[\"clean_teacher_prefix\"] = project_data[\"teacher_prefix\"].fillna('Mrs.')"
   ]
  },
  {
   "cell_type": "code",
   "execution_count": 31,
   "metadata": {},
   "outputs": [
    {
     "data": {
      "text/plain": [
       "Mrs.       57272\n",
       "Ms.        38955\n",
       "Mr.        10648\n",
       "Teacher     2360\n",
       "Dr.           13\n",
       "Name: clean_teacher_prefix, dtype: int64"
      ]
     },
     "execution_count": 31,
     "metadata": {},
     "output_type": "execute_result"
    }
   ],
   "source": [
    "project_data['clean_teacher_prefix'].value_counts()"
   ]
  },
  {
   "cell_type": "code",
   "execution_count": 32,
   "metadata": {},
   "outputs": [
    {
     "data": {
      "text/plain": [
       "mrs        57269\n",
       "ms         38955\n",
       "mr         10648\n",
       "teacher     2360\n",
       "dr            13\n",
       "Name: clean_teacher_prefix, dtype: int64"
      ]
     },
     "execution_count": 32,
     "metadata": {},
     "output_type": "execute_result"
    }
   ],
   "source": [
    "project_data['clean_teacher_prefix'] = project_data['teacher_prefix'].str.replace('.','').str.lower()\n",
    "\n",
    "project_data['clean_teacher_prefix'].value_counts()"
   ]
  },
  {
   "cell_type": "markdown",
   "metadata": {},
   "source": [
    "<h2 style = \"color:green\">cleaning:School State</h2>"
   ]
  },
  {
   "cell_type": "code",
   "execution_count": 33,
   "metadata": {},
   "outputs": [
    {
     "data": {
      "text/plain": [
       "0"
      ]
     },
     "execution_count": 33,
     "metadata": {},
     "output_type": "execute_result"
    }
   ],
   "source": [
    "project_data[\"school_state\"].isnull().values.sum()"
   ]
  },
  {
   "cell_type": "code",
   "execution_count": 34,
   "metadata": {},
   "outputs": [],
   "source": [
    "project_data[\"clean_school_state\"] = project_data[\"school_state\"].str.lower()"
   ]
  },
  {
   "cell_type": "markdown",
   "metadata": {},
   "source": [
    "<h2 style = \"color:green\">cleaning:submitted_date_time</h2>"
   ]
  },
  {
   "cell_type": "code",
   "execution_count": 35,
   "metadata": {},
   "outputs": [
    {
     "data": {
      "text/plain": [
       "0"
      ]
     },
     "execution_count": 35,
     "metadata": {},
     "output_type": "execute_result"
    }
   ],
   "source": [
    "project_data[\"project_submitted_datetime\"].isnull().values.sum()"
   ]
  },
  {
   "cell_type": "code",
   "execution_count": 36,
   "metadata": {},
   "outputs": [],
   "source": [
    "project_data[\"clean_project_submitted_datetime\"] = project_data[\"project_submitted_datetime\"].str.replace(\"-\",\"\").str.replace(\" \",\"\")\\\n",
    ".str.replace(\":\",\"\")\n"
   ]
  },
  {
   "cell_type": "markdown",
   "metadata": {},
   "source": [
    "<h2 style = \"color:green\"> cleaning data : project grade category </h2>"
   ]
  },
  {
   "cell_type": "code",
   "execution_count": 37,
   "metadata": {},
   "outputs": [
    {
     "data": {
      "text/plain": [
       "0"
      ]
     },
     "execution_count": 37,
     "metadata": {},
     "output_type": "execute_result"
    }
   ],
   "source": [
    "project_data[\"project_grade_category\"].isnull().values.sum()"
   ]
  },
  {
   "cell_type": "code",
   "execution_count": 38,
   "metadata": {},
   "outputs": [],
   "source": [
    "project_data[\"project_submitted_datetime\"].isnull().values.sum()\n",
    "project_data['clean_project_grade_category'] = project_data['project_grade_category'].str.replace(' ','_').str.replace('-','_').str.lower()\n"
   ]
  },
  {
   "cell_type": "markdown",
   "metadata": {},
   "source": [
    "<h2 style = \"color:green\"> cleaning data : project subject categories</h2>"
   ]
  },
  {
   "cell_type": "code",
   "execution_count": 39,
   "metadata": {},
   "outputs": [
    {
     "data": {
      "text/plain": [
       "0"
      ]
     },
     "execution_count": 39,
     "metadata": {},
     "output_type": "execute_result"
    }
   ],
   "source": [
    "project_data[\"project_subject_categories\"].isnull().values.sum()"
   ]
  },
  {
   "cell_type": "code",
   "execution_count": 40,
   "metadata": {},
   "outputs": [],
   "source": [
    "\n",
    "project_data['clean_project_subject_categories'] = project_data['project_subject_categories'].str.replace(' The ','').str.replace(' ','').str.replace('&',' ')\\\n",
    ".str.replace(',','_').str.replace(\"_\",\" \").str.lower()\n",
    "\n"
   ]
  },
  {
   "cell_type": "code",
   "execution_count": 41,
   "metadata": {},
   "outputs": [
    {
     "data": {
      "text/plain": [
       "0"
      ]
     },
     "execution_count": 41,
     "metadata": {},
     "output_type": "execute_result"
    }
   ],
   "source": [
    "project_data[\"project_subject_subcategories\"].isnull().sum()"
   ]
  },
  {
   "cell_type": "markdown",
   "metadata": {},
   "source": [
    "<h2 style = \"color:green\"> cleaning data : project subject subcategories</h2>"
   ]
  },
  {
   "cell_type": "code",
   "execution_count": 42,
   "metadata": {},
   "outputs": [
    {
     "data": {
      "text/plain": [
       "literacy                                     9486\n",
       "literacy  mathematics                        8325\n",
       "literature   writing  mathematics            5923\n",
       "literacy  literature   writing               5571\n",
       "mathematics                                  5379\n",
       "                                             ... \n",
       "economics  music                                1\n",
       "literature   writing  nutrition education       1\n",
       "extracurricular  financial literacy             1\n",
       "community service  financial literacy           1\n",
       "parent involvement  warmth  care   hunger       1\n",
       "Name: clean_project_subject_subcategories, Length: 401, dtype: int64"
      ]
     },
     "execution_count": 42,
     "metadata": {},
     "output_type": "execute_result"
    }
   ],
   "source": [
    "project_data['clean_project_subject_subcategories'] = \\\n",
    "    project_data['project_subject_subcategories'].str.replace(' The ','').str.replace('&',' ').str.replace(',',' ').str.lower()\n",
    "\n",
    "project_data['clean_project_subject_subcategories'].value_counts()"
   ]
  },
  {
   "cell_type": "markdown",
   "metadata": {},
   "source": [
    "<h4 style = \"color:green\"> function for cleaning data</h4>"
   ]
  },
  {
   "cell_type": "code",
   "execution_count": 107,
   "metadata": {},
   "outputs": [],
   "source": [
    "import re\n",
    "def preprocess_text(text_data):\n",
    "    preprocessed_text = []\n",
    "    \n",
    "    for sentence in text_data:\n",
    "        sent = sentence.lower().replace('\\\\rn\\\\', ' ').replace('\\\\n', ' ')\n",
    "        sent = re.sub('\\W+', ' ', sent)\n",
    "        sent = ' '.join(e for e in sent.split() if e not in stopwords )\n",
    "        sent = ' '.join(e for e in sent.split() if len(e)>1)\n",
    "        preprocessed_text.append(sent.strip())\n",
    "    return preprocessed_text"
   ]
  },
  {
   "cell_type": "markdown",
   "metadata": {},
   "source": [
    "<h2 style = \"color:blue\"> list of stop words</h2>"
   ]
  },
  {
   "cell_type": "code",
   "execution_count": 108,
   "metadata": {},
   "outputs": [],
   "source": [
    "stopwords= ['i', 'me', 'my', 'myself', 'we', 'our', 'ours', 'ourselves', 'you', \"you're\", \"you've\",\\\n",
    "            \"you'll\", \"you'd\", 'your', 'yours', 'yourself', 'yourselves', 'he', 'him', 'his', 'himself', \\\n",
    "            'she', \"she's\", 'her', 'hers', 'herself', 'it', \"it's\", 'its', 'itself', 'they', 'them', 'their',\\\n",
    "            'theirs', 'themselves', 'what', 'which', 'who', 'whom', 'this', 'that', \"that'll\", 'these', 'those', \\\n",
    "            'am', 'is', 'are', 'was', 'were', 'be', 'been', 'being', 'have', 'has', 'had', 'having', 'do', 'does', \\\n",
    "            'did', 'doing', 'a', 'an', 'the', 'and', 'but', 'if', 'or', 'because', 'as', 'until', 'while', 'of', \\\n",
    "            'at', 'by', 'for', 'with', 'about', 'against', 'between', 'into', 'through', 'during', 'before', 'after',\\\n",
    "            'above', 'below', 'to', 'from', 'up', 'down', 'in', 'out', 'on', 'off', 'over', 'under', 'again', 'further',\\\n",
    "            'then', 'once', 'here', 'there', 'when', 'where', 'why', 'how', 'all', 'any', 'both', 'each', 'few', 'more',\\\n",
    "            'most', 'other', 'some', 'such', 'only', 'own', 'same', 'so', 'than', 'too', 'very', \\\n",
    "            's', 't', 'can', 'will', 'just', 'don', \"don't\", 'should', \"should've\", 'now', 'd', 'll', 'm', 'o', 're', \\\n",
    "            've', 'y', 'ain', 'aren', \"aren't\", 'couldn', \"couldn't\", 'didn', \"didn't\", 'doesn', \"doesn't\", 'hadn',\\\n",
    "            \"hadn't\", 'hasn', \"hasn't\", 'haven', \"haven't\", 'isn', \"isn't\", 'ma', 'mightn', \"mightn't\", 'mustn',\\\n",
    "            \"mustn't\", 'needn', \"needn't\", 'shan', \"shan't\", 'shouldn', \"shouldn't\", 'wasn', \"wasn't\", 'weren', \"weren't\", \\\n",
    "            'won', \"won't\", 'wouldn', \"wouldn't\"]"
   ]
  },
  {
   "cell_type": "markdown",
   "metadata": {},
   "source": [
    "<h2 style = \"color:green\"> cleaning data : project title</h2>"
   ]
  },
  {
   "cell_type": "code",
   "execution_count": 109,
   "metadata": {},
   "outputs": [],
   "source": [
    "project_data[\"clean_project_title\"]  = project_data[\"project_title\"].str.replace(\"n\\'t\", \"not\").str.replace(\"\\'re\", \"\")\\\n",
    ".str.replace(\"\\'s\",\"\").str.replace(\"\\'d\", \"\").str.replace(\"--\", \" \").str.replace(\":\", \" \").str.replace(\"\\\\rn\\\\\\\\\" , \"\")\\\n",
    ".str.replace(\"\\'ll\", \"\").str.replace(\"\\'t\", \"\").str.replace(\"\\'ve\", \"\").str.replace(\"\\'m\", \"\").str.replace(\"!\", \"\")\\\n",
    ".str.replace(\"&\", \"_\").str.replace(\"-\", \" \")\n",
    "# project_data[\"project_title\"]  = project_data[\"project_title\"].str.replace(\"...\", \"\")"
   ]
  },
  {
   "cell_type": "code",
   "execution_count": 110,
   "metadata": {},
   "outputs": [
    {
     "name": "stdout",
     "output_type": "stream",
     "text": [
      "0\n"
     ]
    }
   ],
   "source": [
    "project_data[\"clean_project_title\"] = preprocess_text(project_data[\"project_title\"] )\n",
    "print(project_data[\"clean_project_title\"].isna().sum())"
   ]
  },
  {
   "cell_type": "markdown",
   "metadata": {},
   "source": [
    "<h2 style = \"color:green\"> cleaning data : essay</h2>"
   ]
  },
  {
   "cell_type": "code",
   "execution_count": 49,
   "metadata": {},
   "outputs": [],
   "source": [
    "project_data[\"essay\"] = project_data[\"project_essay_1\"].map(str) +\\\n",
    "                        project_data[\"project_essay_2\"].map(str) + \\\n",
    "                        project_data[\"project_essay_3\"].map(str) + \\\n",
    "                        project_data[\"project_essay_4\"].map(str)\n"
   ]
  },
  {
   "cell_type": "code",
   "execution_count": 50,
   "metadata": {},
   "outputs": [],
   "source": [
    "project_data[\"essay\"]  = project_data[\"essay\"].str.replace(\"n\\'t\",\"not\").str.replace(\"\\'re\",\"\").str.replace(\"\\'s\",\"\").str.replace(\"\\'d\", \"\")\\\n",
    ".str.replace(\"\\'ll\", \"\").str.replace(\"\\'t\", \"\").str.replace(\"\\'ve\", \"\").str.replace(\"\\'m\", \"\").str.replace(\"!\", \"\").str.replace(\"&\", \"_\")\\\n",
    ".str.replace(\"-\", \" \").str.replace(\"--\", \" \").str.replace(\":\", \" \")\n"
   ]
  },
  {
   "cell_type": "code",
   "execution_count": 51,
   "metadata": {},
   "outputs": [],
   "source": [
    "project_data[\"essay\"] = preprocess_text(project_data[\"essay\"] )"
   ]
  },
  {
   "cell_type": "code",
   "execution_count": 52,
   "metadata": {},
   "outputs": [
    {
     "data": {
      "text/plain": [
       "'students english learners working english second third languages melting pot refugees immigrants native born americans bringing gift language school 24 languages represented english learner program students every level mastery also 40 countries represented families within school student brings wealth knowledge experiences us open eyes new cultures beliefs respect limits language limits world ludwig wittgenstein english learner strong support system home begs resources many times parents learning read speak english along side children sometimes creates barriers parents able help child learn phonetics letter recognition reading skills providing dvd players students able continue mastery english language even no one home able assist families students within level proficiency status offered part program educational videos specially chosen english learner teacher sent home regularly watch videos help child develop early reading skills parents not access dvd player opportunity check dvd player use year plan use videos educational dvd years come el students nannan'"
      ]
     },
     "execution_count": 52,
     "metadata": {},
     "output_type": "execute_result"
    }
   ],
   "source": [
    "project_data[\"essay\"][0]"
   ]
  },
  {
   "cell_type": "markdown",
   "metadata": {},
   "source": [
    "<h2 style = \"color:green\"> cleaning data : project_resource_summary</h2>"
   ]
  },
  {
   "cell_type": "code",
   "execution_count": 53,
   "metadata": {},
   "outputs": [],
   "source": [
    "project_data[\"clean_project_resource_summary\"] = project_data[\"project_resource_summary\"].str.replace(\"n\\'t\",\"not\").str.replace(\"\\'re\",\"\")\\\n",
    ".str.replace(\"\\'s\",\"\").str.replace(\"\\'d\", \"\").str.replace(\"\\'ll\", \"\").str.replace(\"\\'t\", \"\").str.replace(\"\\'ve\", \"\").str.replace(\"\\'m\", \"\")\\\n",
    ".str.replace(\"!\", \"\").str.replace(\"&\", \"_\").str.replace(\"-\", \" \").str.replace(\"--\", \" \").str.replace(\":\", \" \").str.replace(\"\\\\rn\\\\\\\\\" , \"\")\n"
   ]
  },
  {
   "cell_type": "code",
   "execution_count": 54,
   "metadata": {},
   "outputs": [],
   "source": [
    "clean_project_resource_summary = preprocess_text(project_data[\"project_resource_summary\"] )"
   ]
  },
  {
   "cell_type": "markdown",
   "metadata": {},
   "source": [
    "<h2 style = \"color:red\">Finalising the data</h2>"
   ]
  },
  {
   "cell_type": "code",
   "execution_count": 55,
   "metadata": {},
   "outputs": [],
   "source": [
    "preprocessed_data = project_data.drop([\"Unnamed: 0\",\"id\",\"project_essay_1\",\"project_essay_2\",\"project_essay_3\",\"project_essay_4\",\"teacher_prefix\",\\\n",
    "                                       \"school_state\",\"project_submitted_datetime\",\"project_grade_category\",\"project_subject_categories\",\\\n",
    "                                       \"project_title\",\"project_subject_subcategories\",\"project_resource_summary\"],axis = 1)\n",
    "preprocessed_data.head()\n",
    "preprocessed_data.to_csv('processed_data.csv')"
   ]
  },
  {
   "cell_type": "markdown",
   "metadata": {},
   "source": [
    "<h1 style = \"color:green\">Building the model</h1>"
   ]
  },
  {
   "cell_type": "code",
   "execution_count": 56,
   "metadata": {},
   "outputs": [],
   "source": [
    "from sklearn.model_selection import train_test_split\n",
    "from sklearn.feature_extraction.text import CountVectorizer,TfidfVectorizer\n",
    "from sklearn.preprocessing import Normalizer\n",
    "from scipy.sparse import hstack\n",
    "from sklearn.tree import DecisionTreeClassifier\n",
    "from sklearn.naive_bayes import BernoulliNB\n",
    "from sklearn.model_selection import RandomizedSearchCV,GridSearchCV\n",
    "from sklearn.metrics import accuracy_score\n",
    "from sklearn.metrics import roc_curve, auc,confusion_matrix,classification_report\n",
    "import seaborn as sns\t\n",
    "from sklearn.utils import resample"
   ]
  },
  {
   "cell_type": "markdown",
   "metadata": {},
   "source": [
    "<h3 style =\"color:blue\">reading data"
   ]
  },
  {
   "cell_type": "code",
   "execution_count": 57,
   "metadata": {},
   "outputs": [
    {
     "data": {
      "text/html": [
       "<div>\n",
       "<style scoped>\n",
       "    .dataframe tbody tr th:only-of-type {\n",
       "        vertical-align: middle;\n",
       "    }\n",
       "\n",
       "    .dataframe tbody tr th {\n",
       "        vertical-align: top;\n",
       "    }\n",
       "\n",
       "    .dataframe thead th {\n",
       "        text-align: right;\n",
       "    }\n",
       "</style>\n",
       "<table border=\"1\" class=\"dataframe\">\n",
       "  <thead>\n",
       "    <tr style=\"text-align: right;\">\n",
       "      <th></th>\n",
       "      <th>Unnamed: 0</th>\n",
       "      <th>teacher_id</th>\n",
       "      <th>teacher_number_of_previously_posted_projects</th>\n",
       "      <th>project_is_approved</th>\n",
       "      <th>clean_categories</th>\n",
       "      <th>clean_subcategories</th>\n",
       "      <th>price</th>\n",
       "      <th>quantity</th>\n",
       "      <th>clean_teacher_prefix</th>\n",
       "      <th>clean_school_state</th>\n",
       "      <th>clean_project_submitted_datetime</th>\n",
       "      <th>clean_project_grade_category</th>\n",
       "      <th>clean_project_subject_categories</th>\n",
       "      <th>clean_project_subject_subcategories</th>\n",
       "      <th>clean_project_title</th>\n",
       "      <th>essay</th>\n",
       "      <th>clean_project_resource_summary</th>\n",
       "    </tr>\n",
       "  </thead>\n",
       "  <tbody>\n",
       "    <tr>\n",
       "      <th>0</th>\n",
       "      <td>0</td>\n",
       "      <td>c90749f5d961ff158d4b4d1e7dc665fc</td>\n",
       "      <td>0</td>\n",
       "      <td>0</td>\n",
       "      <td>Literacy   Language</td>\n",
       "      <td>ESL Literacy</td>\n",
       "      <td>154.6</td>\n",
       "      <td>23</td>\n",
       "      <td>mrs</td>\n",
       "      <td>in</td>\n",
       "      <td>20161205134357</td>\n",
       "      <td>grades_prek_2</td>\n",
       "      <td>literacy language</td>\n",
       "      <td>esl  literacy</td>\n",
       "      <td>educational support english learners home</td>\n",
       "      <td>students english learners working english seco...</td>\n",
       "      <td>My students need opportunities to practice beg...</td>\n",
       "    </tr>\n",
       "    <tr>\n",
       "      <th>1</th>\n",
       "      <td>1</td>\n",
       "      <td>897464ce9ddc600bced1151f324dd63a</td>\n",
       "      <td>7</td>\n",
       "      <td>1</td>\n",
       "      <td>History   Civics Health   Sports</td>\n",
       "      <td>Civics   Government Team Sports</td>\n",
       "      <td>299.0</td>\n",
       "      <td>1</td>\n",
       "      <td>mr</td>\n",
       "      <td>fl</td>\n",
       "      <td>20161025092210</td>\n",
       "      <td>grades_6_8</td>\n",
       "      <td>history civics health sports</td>\n",
       "      <td>civics   government  team sports</td>\n",
       "      <td>wanted projector hungry learners</td>\n",
       "      <td>students arrive school eager learn polite gene...</td>\n",
       "      <td>My students need a projector to help with view...</td>\n",
       "    </tr>\n",
       "  </tbody>\n",
       "</table>\n",
       "</div>"
      ],
      "text/plain": [
       "   Unnamed: 0                        teacher_id  \\\n",
       "0           0  c90749f5d961ff158d4b4d1e7dc665fc   \n",
       "1           1  897464ce9ddc600bced1151f324dd63a   \n",
       "\n",
       "   teacher_number_of_previously_posted_projects  project_is_approved  \\\n",
       "0                                             0                    0   \n",
       "1                                             7                    1   \n",
       "\n",
       "                   clean_categories              clean_subcategories  price  \\\n",
       "0               Literacy   Language                     ESL Literacy  154.6   \n",
       "1  History   Civics Health   Sports  Civics   Government Team Sports  299.0   \n",
       "\n",
       "   quantity clean_teacher_prefix clean_school_state  \\\n",
       "0        23                  mrs                 in   \n",
       "1         1                   mr                 fl   \n",
       "\n",
       "   clean_project_submitted_datetime clean_project_grade_category  \\\n",
       "0                    20161205134357                grades_prek_2   \n",
       "1                    20161025092210                   grades_6_8   \n",
       "\n",
       "  clean_project_subject_categories clean_project_subject_subcategories  \\\n",
       "0                literacy language                       esl  literacy   \n",
       "1     history civics health sports    civics   government  team sports   \n",
       "\n",
       "                         clean_project_title  \\\n",
       "0  educational support english learners home   \n",
       "1           wanted projector hungry learners   \n",
       "\n",
       "                                               essay  \\\n",
       "0  students english learners working english seco...   \n",
       "1  students arrive school eager learn polite gene...   \n",
       "\n",
       "                      clean_project_resource_summary  \n",
       "0  My students need opportunities to practice beg...  \n",
       "1  My students need a projector to help with view...  "
      ]
     },
     "execution_count": 57,
     "metadata": {},
     "output_type": "execute_result"
    }
   ],
   "source": [
    "processed_data = pd.read_csv('/home/yughi/Downloads/processed_data.csv',nrows = 5000)\n",
    "processed_data.head(2)\n"
   ]
  },
  {
   "cell_type": "markdown",
   "metadata": {},
   "source": [
    "<h2 style = \"color:blue\">Oversampling</h2>"
   ]
  },
  {
   "cell_type": "code",
   "execution_count": 58,
   "metadata": {},
   "outputs": [
    {
     "name": "stdout",
     "output_type": "stream",
     "text": [
      "8474\n"
     ]
    }
   ],
   "source": [
    "minority = processed_data[processed_data.project_is_approved == 0]\n",
    "majority = processed_data[processed_data.project_is_approved == 1]\n",
    "size = len(majority)\n",
    "minority_upsampled = resample(minority,n_samples = len(majority),replace = True,random_state = 123)\n",
    "data =  pd.concat([majority,minority_upsampled])\n",
    "print(len(data))\n"
   ]
  },
  {
   "cell_type": "markdown",
   "metadata": {},
   "source": [
    "<h3 style = \"color:blue\">splitting data"
   ]
  },
  {
   "cell_type": "code",
   "execution_count": 59,
   "metadata": {},
   "outputs": [
    {
     "name": "stdout",
     "output_type": "stream",
     "text": [
      "1    4237\n",
      "0    4237\n",
      "Name: project_is_approved, dtype: int64\n"
     ]
    },
    {
     "data": {
      "text/html": [
       "<div>\n",
       "<style scoped>\n",
       "    .dataframe tbody tr th:only-of-type {\n",
       "        vertical-align: middle;\n",
       "    }\n",
       "\n",
       "    .dataframe tbody tr th {\n",
       "        vertical-align: top;\n",
       "    }\n",
       "\n",
       "    .dataframe thead th {\n",
       "        text-align: right;\n",
       "    }\n",
       "</style>\n",
       "<table border=\"1\" class=\"dataframe\">\n",
       "  <thead>\n",
       "    <tr style=\"text-align: right;\">\n",
       "      <th></th>\n",
       "      <th>Unnamed: 0</th>\n",
       "      <th>teacher_id</th>\n",
       "      <th>teacher_number_of_previously_posted_projects</th>\n",
       "      <th>project_is_approved</th>\n",
       "      <th>clean_categories</th>\n",
       "      <th>clean_subcategories</th>\n",
       "      <th>price</th>\n",
       "      <th>quantity</th>\n",
       "      <th>clean_teacher_prefix</th>\n",
       "      <th>clean_school_state</th>\n",
       "      <th>clean_project_submitted_datetime</th>\n",
       "      <th>clean_project_grade_category</th>\n",
       "      <th>clean_project_subject_categories</th>\n",
       "      <th>clean_project_subject_subcategories</th>\n",
       "      <th>clean_project_title</th>\n",
       "      <th>essay</th>\n",
       "      <th>clean_project_resource_summary</th>\n",
       "    </tr>\n",
       "  </thead>\n",
       "  <tbody>\n",
       "    <tr>\n",
       "      <th>4103</th>\n",
       "      <td>4103</td>\n",
       "      <td>3e175c268e9bac1d0685d38a4c30ff57</td>\n",
       "      <td>0</td>\n",
       "      <td>0</td>\n",
       "      <td>Literacy   Language</td>\n",
       "      <td>Literacy</td>\n",
       "      <td>407.99</td>\n",
       "      <td>3</td>\n",
       "      <td>mrs</td>\n",
       "      <td>az</td>\n",
       "      <td>20160902001150</td>\n",
       "      <td>grades_prek_2</td>\n",
       "      <td>literacy language</td>\n",
       "      <td>literacy</td>\n",
       "      <td>going adventures books listening center</td>\n",
       "      <td>love teaching school filled lively inquisitive...</td>\n",
       "      <td>My students need a ready to go listening cente...</td>\n",
       "    </tr>\n",
       "    <tr>\n",
       "      <th>3013</th>\n",
       "      <td>3013</td>\n",
       "      <td>25437e91796345dd09e04eea32e3aa85</td>\n",
       "      <td>6</td>\n",
       "      <td>1</td>\n",
       "      <td>Literacy   Language</td>\n",
       "      <td>Literature   Writing</td>\n",
       "      <td>709.21</td>\n",
       "      <td>77</td>\n",
       "      <td>mrs</td>\n",
       "      <td>wa</td>\n",
       "      <td>20160730001127</td>\n",
       "      <td>grades_prek_2</td>\n",
       "      <td>literacy language</td>\n",
       "      <td>literature   writing</td>\n",
       "      <td>books galore need</td>\n",
       "      <td>students class come diverse backgrounds severa...</td>\n",
       "      <td>My students need a specific collection of read...</td>\n",
       "    </tr>\n",
       "  </tbody>\n",
       "</table>\n",
       "</div>"
      ],
      "text/plain": [
       "      Unnamed: 0                        teacher_id  \\\n",
       "4103        4103  3e175c268e9bac1d0685d38a4c30ff57   \n",
       "3013        3013  25437e91796345dd09e04eea32e3aa85   \n",
       "\n",
       "      teacher_number_of_previously_posted_projects  project_is_approved  \\\n",
       "4103                                             0                    0   \n",
       "3013                                             6                    1   \n",
       "\n",
       "         clean_categories   clean_subcategories   price  quantity  \\\n",
       "4103  Literacy   Language              Literacy  407.99         3   \n",
       "3013  Literacy   Language  Literature   Writing  709.21        77   \n",
       "\n",
       "     clean_teacher_prefix clean_school_state  \\\n",
       "4103                  mrs                 az   \n",
       "3013                  mrs                 wa   \n",
       "\n",
       "      clean_project_submitted_datetime clean_project_grade_category  \\\n",
       "4103                    20160902001150                grades_prek_2   \n",
       "3013                    20160730001127                grades_prek_2   \n",
       "\n",
       "     clean_project_subject_categories clean_project_subject_subcategories  \\\n",
       "4103                literacy language                            literacy   \n",
       "3013                literacy language                literature   writing   \n",
       "\n",
       "                          clean_project_title  \\\n",
       "4103  going adventures books listening center   \n",
       "3013                        books galore need   \n",
       "\n",
       "                                                  essay  \\\n",
       "4103  love teaching school filled lively inquisitive...   \n",
       "3013  students class come diverse backgrounds severa...   \n",
       "\n",
       "                         clean_project_resource_summary  \n",
       "4103  My students need a ready to go listening cente...  \n",
       "3013  My students need a specific collection of read...  "
      ]
     },
     "execution_count": 59,
     "metadata": {},
     "output_type": "execute_result"
    }
   ],
   "source": [
    "y = data[\"project_is_approved\"]\n",
    "print(y.value_counts())\n",
    "x_train,x_test,y_train,y_test = train_test_split(data,data[\"project_is_approved\"].values,test_size = 0.25,stratify = y)\n",
    "x_train.head(2)"
   ]
  },
  {
   "cell_type": "markdown",
   "metadata": {},
   "source": [
    "<h2 style = \"color:blue\">Featurisation</h2>"
   ]
  },
  {
   "cell_type": "code",
   "execution_count": 118,
   "metadata": {},
   "outputs": [],
   "source": [
    "#bow for grade_category\n",
    "# vectorizer = CountVectorizer()\n",
    "fit_grade_category = CountVectorizer().fit(x_train[\"clean_project_grade_category\"])\n",
    "x_train_grade = fit_grade_category.transform(x_train[\"clean_project_grade_category\"])\n",
    "x_test_grade = fit_grade_category.transform(x_test[\"clean_project_grade_category\"])\n",
    "\n",
    "# bow for teacher_id\n",
    "fit_teacher_id = CountVectorizer().fit(x_train[\"teacher_id\"])\n",
    "x_train_teacher_id = fit_teacher_id.transform(x_train[\"teacher_id\"])\n",
    "x_test_teacher_id = fit_teacher_id.transform(x_test[\"teacher_id\"])\n",
    "\n",
    "#bow for project_title\n",
    "\n",
    "# fit_project_title = CountVectorizer().fit(x_train[\"clean_project_title\"])#.apply(lambda x: str(x)))\n",
    "# x_train_project_title = fit_project_title.transform(x_train[\"clean_project_title\"])\n",
    "# x_test_project_title = fit_project_title.transform(x_test[\"clean_project_title\"])\n",
    "\n",
    "#bow for essay\n",
    "fit_essay = CountVectorizer().fit(x_train[\"essay\"])\n",
    "x_train_essay = fit_essay.transform(x_train[\"essay\"])\n",
    "x_test_essay = fit_essay.transform(x_test[\"essay\"])\n",
    "\n",
    "#bow for teacher_prefix\n",
    "# fit_teacher_prefix = CountVectorizer().fit(x_train[\"clean_teacher_prefix\"])\n",
    "# x_train_teacher_prefix = fit_teacher_prefix.transform(x_train[\"clean_teacher_prefix\"])\n",
    "# x_test_teacher_prefix = fit_teacher_prefix.transform(x_test[\"clean_teacher_prefix\"])\n",
    "\n",
    "#bow for project_subject_categories\n",
    "fit_subject_categories = CountVectorizer().fit(x_train[\"clean_project_subject_categories\"])\n",
    "x_train_subject_categories = fit_subject_categories.transform(x_train[\"clean_project_subject_categories\"])\n",
    "x_test_subject_categories = fit_subject_categories.transform(x_test[\"clean_project_subject_categories\"])\n",
    "\n",
    "#bow for project_subject_subcategories\n",
    "fit_subject_subcategories = CountVectorizer().fit(x_train[\"clean_project_subject_subcategories\"])\n",
    "x_train_subject_subcategories = fit_subject_subcategories.transform(x_train[\"clean_project_subject_subcategories\"])\n",
    "x_test_subject_subcategories = fit_subject_subcategories.transform(x_test[\"clean_project_subject_subcategories\"])\n",
    "\n",
    "\n",
    "#bow for school_state\n",
    "fit_school_state = CountVectorizer().fit(x_train[\"clean_school_state\"])\n",
    "x_train_school_state = fit_school_state.transform(x_train[\"clean_school_state\"])\n",
    "x_test_school_state = fit_school_state.transform(x_test[\"clean_school_state\"])\n",
    "\n",
    "#bow for project_resource_summary\n",
    "fit_project_resource_summary = CountVectorizer().fit(x_train[\"clean_project_resource_summary\"])\n",
    "x_train_project_resource_summary = fit_project_resource_summary.transform(x_train[\"clean_project_resource_summary\"])\n",
    "x_test_project_resource_summary = fit_project_resource_summary.transform(x_test[\"clean_project_resource_summary\"])\n",
    "\n",
    "#normalizing price\n",
    "fit_price = Normalizer().fit(x_train[\"price\"].values.reshape(-1,1))\n",
    "x_train_price = fit_price .transform(x_train[\"price\"].values.reshape(-1,1))\n",
    "x_test_price  = fit_price .transform(x_test[\"price\"].values.reshape(-1,1))\n",
    "\n",
    "#normalizing quantity\n",
    "fit_quantity= Normalizer().fit(x_train[\"quantity\"].values.reshape(-1,1))\n",
    "x_train_quantity = fit_quantity .transform(x_train[\"quantity\"].values.reshape(-1,1))\n",
    "x_test_quantity  = fit_quantity .transform(x_test[\"quantity\"].values.reshape(-1,1))\n",
    "\n",
    "#normalizing teacher_number_of_previously_posted_projects\n",
    "fit_teacher_number_of_previously_posted_projects = Normalizer().fit(x_train[\"teacher_number_of_previously_posted_projects\"].values.reshape(-1,1))\n",
    "x_train_teacher_number_of_previously_posted_projects = fit_teacher_number_of_previously_posted_projects .transform(x_train[\"teacher_number_of_previously_posted_projects\"].values.reshape(-1,1))\n",
    "x_test_teacher_number_of_previously_posted_projects = fit_teacher_number_of_previously_posted_projects .transform(x_test[\"teacher_number_of_previously_posted_projects\"].values.reshape(-1,1))\n",
    "\n",
    "#normalizing project_submitted_datetime\n",
    "fit_project_submitted_datetime = Normalizer().fit(x_train[\"clean_project_submitted_datetime\"].values.reshape(-1,1))\n",
    "x_train_project_submitted_datetime = fit_project_submitted_datetime .transform(x_train[\"clean_project_submitted_datetime\"].values.reshape(-1,1))\n",
    "x_test_project_submitted_datetime = fit_project_submitted_datetime.transform(x_test[\"clean_project_submitted_datetime\"].values.reshape(-1,1))\n",
    "\n",
    "\n",
    "\n",
    "\n",
    "\n"
   ]
  },
  {
   "cell_type": "markdown",
   "metadata": {},
   "source": [
    "<h2 style = \"color:blue\">Embedding Data</h2>"
   ]
  },
  {
   "cell_type": "code",
   "execution_count": 61,
   "metadata": {},
   "outputs": [],
   "source": [
    "x_tr = hstack((x_train_project_submitted_datetime,x_train_project_submitted_datetime,x_train_quantity,x_train_price,x_train_project_resource_summary\\\n",
    "              ,x_train_school_state,x_train_subject_subcategories,x_train_subject_categories,x_train_essay,x_train_teacher_id,x_train_grade ))\n",
    "x_te = hstack((x_test_project_submitted_datetime,x_test_project_submitted_datetime,x_test_quantity,x_test_price,x_test_project_resource_summary\\\n",
    "              ,x_test_school_state,x_test_subject_subcategories,x_test_subject_categories,x_test_essay,x_test_teacher_id,x_test_grade))"
   ]
  },
  {
   "cell_type": "markdown",
   "metadata": {},
   "source": [
    "<h1 style  = \"color:blue\">Building a model using bernoulliNB </h1>"
   ]
  },
  {
   "cell_type": "code",
   "execution_count": 63,
   "metadata": {},
   "outputs": [
    {
     "name": "stdout",
     "output_type": "stream",
     "text": [
      "CPU times: user 5 µs, sys: 0 ns, total: 5 µs\n",
      "Wall time: 9.78 µs\n"
     ]
    },
    {
     "data": {
      "text/plain": [
       "RandomizedSearchCV(cv=5, estimator=BernoulliNB(),\n",
       "                   param_distributions={'alpha': [0.005, 0.001, 0.05, 0.01, 0.1,\n",
       "                                                  0.5, 1, 5, 10, 50, 100]},\n",
       "                   return_train_score=True, scoring='roc_auc')"
      ]
     },
     "execution_count": 63,
     "metadata": {},
     "output_type": "execute_result"
    }
   ],
   "source": [
    "%%time\n",
    "\n",
    "nb = BernoulliNB() \n",
    "hyperparams = {'alpha':[0.005,0.001,0.05,0.01,0.1,0.5,1,5,10,50,100]}\n",
    "\n",
    "model_nb = RandomizedSearchCV(nb,hyperparams,cv = 5,scoring = \"roc_auc\",return_train_score = True) \n",
    "model_nb.fit(x_tr,y_train)\n"
   ]
  },
  {
   "cell_type": "markdown",
   "metadata": {},
   "source": [
    "<h2 style = \"color:skyblue\">computing metrics on bernoulliNB"
   ]
  },
  {
   "cell_type": "code",
   "execution_count": 64,
   "metadata": {},
   "outputs": [
    {
     "name": "stdout",
     "output_type": "stream",
     "text": [
      "              precision    recall  f1-score   support\n",
      "\n",
      "           0       0.97      0.97      0.97      1060\n",
      "           1       0.97      0.97      0.97      1059\n",
      "\n",
      "    accuracy                           0.97      2119\n",
      "   macro avg       0.97      0.97      0.97      2119\n",
      "weighted avg       0.97      0.97      0.97      2119\n",
      "\n"
     ]
    }
   ],
   "source": [
    "y_pre_nb = model_nb.predict(x_te)\n",
    "perf_metrics_nb = classification_report(y_test,y_pre_nb,output_dict = False)\n",
    "print(perf_metrics_nb)"
   ]
  },
  {
   "cell_type": "markdown",
   "metadata": {},
   "source": [
    "<h1 style  = \"color:blue\">Building a model using Decision Trees</h1>"
   ]
  },
  {
   "cell_type": "code",
   "execution_count": 65,
   "metadata": {},
   "outputs": [
    {
     "name": "stdout",
     "output_type": "stream",
     "text": [
      "CPU times: user 5 µs, sys: 0 ns, total: 5 µs\n",
      "Wall time: 9.06 µs\n"
     ]
    },
    {
     "data": {
      "text/plain": [
       "GridSearchCV(cv=5, estimator=DecisionTreeClassifier(), n_jobs=-1,\n",
       "             param_grid={'max_depth': [2, 10, 1, 3, 5],\n",
       "                         'min_samples_split': [20, 10, 13, 16, 19, 22, 25, 28,\n",
       "                                               31, 34, 37, 40, 43, 46, 49]},\n",
       "             return_train_score=True)"
      ]
     },
     "execution_count": 65,
     "metadata": {},
     "output_type": "execute_result"
    }
   ],
   "source": [
    "%%time\n",
    "\n",
    "dt = DecisionTreeClassifier()\n",
    "param = {\n",
    "    'min_samples_split' : [20] + list(np.arange(10, 50, 3)) ,\n",
    "    'max_depth': [2, 10, 1, 3, 5]\n",
    "}\n",
    "model_dt = GridSearchCV(dt,param_grid = param,cv = 5,return_train_score = True,n_jobs = -1) \n",
    "model_dt.fit(x_tr,y_train)\n",
    "\n"
   ]
  },
  {
   "cell_type": "markdown",
   "metadata": {},
   "source": [
    "<h2 style = \"color:skyblue\">computing metrics on decision trees </h2>"
   ]
  },
  {
   "cell_type": "code",
   "execution_count": 67,
   "metadata": {},
   "outputs": [
    {
     "name": "stdout",
     "output_type": "stream",
     "text": [
      "              precision    recall  f1-score   support\n",
      "\n",
      "           0       0.58      0.98      0.73      1060\n",
      "           1       0.93      0.30      0.45      1059\n",
      "\n",
      "    accuracy                           0.64      2119\n",
      "   macro avg       0.75      0.64      0.59      2119\n",
      "weighted avg       0.75      0.64      0.59      2119\n",
      "\n"
     ]
    }
   ],
   "source": [
    "y_pre_dt = model_dt.predict(x_te)\n",
    "perf_metrics_dt = classification_report(y_test,y_pre_dt)\n",
    "print(perf_metrics_dt)\n"
   ]
  },
  {
   "cell_type": "markdown",
   "metadata": {},
   "source": [
    "<h2 style = \"color:blue\">confusion matrix for naive bayes and decision trees</h2>"
   ]
  },
  {
   "cell_type": "code",
   "execution_count": 69,
   "metadata": {},
   "outputs": [],
   "source": [
    "ynb_confusion_matrix = confusion_matrix(y_test,y_pre_nb)\n",
    "ydt_confusion_matrix = confusion_matrix(y_test,y_pre_dt)"
   ]
  },
  {
   "cell_type": "code",
   "execution_count": 70,
   "metadata": {},
   "outputs": [
    {
     "data": {
      "text/html": [
       "<div>\n",
       "<style scoped>\n",
       "    .dataframe tbody tr th:only-of-type {\n",
       "        vertical-align: middle;\n",
       "    }\n",
       "\n",
       "    .dataframe tbody tr th {\n",
       "        vertical-align: top;\n",
       "    }\n",
       "\n",
       "    .dataframe thead th {\n",
       "        text-align: right;\n",
       "    }\n",
       "</style>\n",
       "<table border=\"1\" class=\"dataframe\">\n",
       "  <thead>\n",
       "    <tr style=\"text-align: right;\">\n",
       "      <th></th>\n",
       "      <th>rejected</th>\n",
       "      <th>selected</th>\n",
       "    </tr>\n",
       "  </thead>\n",
       "  <tbody>\n",
       "    <tr>\n",
       "      <th>rejected</th>\n",
       "      <td>1031</td>\n",
       "      <td>29</td>\n",
       "    </tr>\n",
       "    <tr>\n",
       "      <th>selected</th>\n",
       "      <td>31</td>\n",
       "      <td>1028</td>\n",
       "    </tr>\n",
       "  </tbody>\n",
       "</table>\n",
       "</div>"
      ],
      "text/plain": [
       "          rejected  selected\n",
       "rejected      1031        29\n",
       "selected        31      1028"
      ]
     },
     "execution_count": 70,
     "metadata": {},
     "output_type": "execute_result"
    }
   ],
   "source": [
    "labels = ['rejected', 'selected']\n",
    "pd.DataFrame(ynb_confusion_matrix, index=labels, columns=labels)"
   ]
  },
  {
   "cell_type": "code",
   "execution_count": 71,
   "metadata": {},
   "outputs": [
    {
     "data": {
      "text/html": [
       "<div>\n",
       "<style scoped>\n",
       "    .dataframe tbody tr th:only-of-type {\n",
       "        vertical-align: middle;\n",
       "    }\n",
       "\n",
       "    .dataframe tbody tr th {\n",
       "        vertical-align: top;\n",
       "    }\n",
       "\n",
       "    .dataframe thead th {\n",
       "        text-align: right;\n",
       "    }\n",
       "</style>\n",
       "<table border=\"1\" class=\"dataframe\">\n",
       "  <thead>\n",
       "    <tr style=\"text-align: right;\">\n",
       "      <th></th>\n",
       "      <th>rejected</th>\n",
       "      <th>selected</th>\n",
       "    </tr>\n",
       "  </thead>\n",
       "  <tbody>\n",
       "    <tr>\n",
       "      <th>rejected</th>\n",
       "      <td>1035</td>\n",
       "      <td>25</td>\n",
       "    </tr>\n",
       "    <tr>\n",
       "      <th>selected</th>\n",
       "      <td>741</td>\n",
       "      <td>318</td>\n",
       "    </tr>\n",
       "  </tbody>\n",
       "</table>\n",
       "</div>"
      ],
      "text/plain": [
       "          rejected  selected\n",
       "rejected      1035        25\n",
       "selected       741       318"
      ]
     },
     "execution_count": 71,
     "metadata": {},
     "output_type": "execute_result"
    }
   ],
   "source": [
    "labels = ['rejected', 'selected']\n",
    "pd.DataFrame(ydt_confusion_matrix, index=labels, columns=labels)"
   ]
  },
  {
   "cell_type": "markdown",
   "metadata": {},
   "source": [
    "<h3>As we did the two models the accuracy of bernoullinb was higher compared to the decision trees </h3>"
   ]
  },
  {
   "cell_type": "markdown",
   "metadata": {},
   "source": [
    "<h1 style = \"color:red\">Conclusion </h1>"
   ]
  },
  {
   "cell_type": "markdown",
   "metadata": {},
   "source": [
    "<h3> Thus the model we built with an accuracy of 97%  will be helpful for the organisation in finding donee and it saves money as it was automated by a system.so with the help of this they can allocate more funds to the donation .Below was the heat map of confusion_matrix which represents performance of our models </h3>"
   ]
  },
  {
   "cell_type": "markdown",
   "metadata": {},
   "source": [
    "<h3 style = \"color:yellow\">Heatmaps for confusion matrix of naibaive test data </h3>"
   ]
  },
  {
   "cell_type": "code",
   "execution_count": 74,
   "metadata": {},
   "outputs": [
    {
     "data": {
      "text/plain": [
       "Text(0.5, 1.0, 'confusion matrix of naive bayes test data ')"
      ]
     },
     "execution_count": 74,
     "metadata": {},
     "output_type": "execute_result"
    },
    {
     "data": {
      "image/png": "[encoded data removed]",
      "text/plain": [
       "<Figure size 432x288 with 2 Axes>"
      ]
     },
     "metadata": {
      "needs_background": "light"
     },
     "output_type": "display_data"
    }
   ],
   "source": [
    "sns.heatmap(ynb_confusion_matrix,annot = True,fmt = 'd',cmap = \"Reds\")\n",
    "plt.title(\"confusion matrix of naive bayes test data \",color = \"blue\")\n"
   ]
  },
  {
   "cell_type": "code",
   "execution_count": null,
   "metadata": {},
   "outputs": [],
   "source": []
  }
 ],
 "metadata": {
  "kernelspec": {
   "display_name": "Python 3",
   "language": "python",
   "name": "python3"
  },
  "language_info": {
   "codemirror_mode": {
    "name": "ipython",
    "version": 3
   },
   "file_extension": ".py",
   "mimetype": "text/x-python",
   "name": "python",
   "nbconvert_exporter": "python",
   "pygments_lexer": "ipython3",
   "version": "3.8.5"
  }
 },
 "nbformat": 4,
 "nbformat_minor": 4
}
